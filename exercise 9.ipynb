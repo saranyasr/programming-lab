{
 "cells": [
  {
   "cell_type": "code",
   "execution_count": 3,
   "metadata": {},
   "outputs": [
    {
     "name": "stdout",
     "output_type": "stream",
     "text": [
      "enter some coma separated words:house,tree,engineering\n",
      "the length of longest wore: 11\n"
     ]
    }
   ],
   "source": [
    "#length of longest word\n",
    "l1=[]\n",
    "str1=input(\"enter some coma separated words:\")\n",
    "l=str1.split(\",\")\n",
    "for i in l:\n",
    "    l1.append(len(i))\n",
    "print(\"the length of longest wore:\",max(l1))"
   ]
  },
  {
   "cell_type": "code",
   "execution_count": 4,
   "metadata": {},
   "outputs": [
    {
     "name": "stdout",
     "output_type": "stream",
     "text": [
      "enter a word:morn\n",
      "the word before formatting is: morn\n",
      "the formatted word is: morning\n"
     ]
    }
   ],
   "source": [
    "#ing string formating\n",
    "word=input(\"enter a word:\")\n",
    "print(\"the word before formatting is:\",word)\n",
    "str1=word[-3:-1]\n",
    "if str1=='ing':\n",
    "    word=word+\"ly\"\n",
    "else:\n",
    "    word=word+\"ing\"\n",
    "print(\"the formatted word is:\",word)\n"
   ]
  },
  {
   "cell_type": "code",
   "execution_count": 6,
   "metadata": {},
   "outputs": [
    {
     "name": "stdout",
     "output_type": "stream",
     "text": [
      "enter a 4 digit lower range:1000\n",
      "enter a 4 digit higher range:9999\n",
      "the required list is: [4624, 6084, 6400, 8464]\n"
     ]
    }
   ],
   "source": [
    "#perfect square and  4 digit\n",
    "import math\n",
    "n1=int(input(\"enter a 4 digit lower range:\"))\n",
    "n2=int(input(\"enter a 4 digit higher range:\"))\n",
    "l=[]\n",
    "x=0\n",
    "for i in range(n1,n2):\n",
    "    x=i\n",
    "    while x!=0:\n",
    "        k1=x%10\n",
    "        x=int(x/10)\n",
    "        k2=x%10\n",
    "        x=int(x/10)\n",
    "        k3=x%10\n",
    "        x=int(x/10)\n",
    "        k4=x%10\n",
    "        x=int(x/10)\n",
    "        sq=int(math.sqrt(i))\n",
    "        if sq*sq==i:\n",
    "            if k1%2==0 and k2%2==0 and k3%2==0 and k4%2==0:\n",
    "                l.append(i)\n",
    "                \n",
    "print(\"the required list is:\",l)\n",
    "        \n"
   ]
  },
  {
   "cell_type": "code",
   "execution_count": null,
   "metadata": {},
   "outputs": [
    {
     "name": "stdout",
     "output_type": "stream",
     "text": [
      "\n",
      "1.square\n",
      "2.rectangle\n",
      "3.triangle\n",
      "4.exit\n",
      "enter any option:3\n",
      "enter the 1st side:2\n",
      "enter the 2nd side:4\n",
      "enter the 3rd side:5\n",
      "area of triangle: 3.799671038392666\n",
      "\n",
      "1.square\n",
      "2.rectangle\n",
      "3.triangle\n",
      "4.exit\n"
     ]
    }
   ],
   "source": [
    "#area using lambda function\n",
    "sarea=lambda a:a*a\n",
    "\n",
    "\n",
    "\n",
    "rectarea=lambda a,b:a*b\n",
    "\n",
    "\n",
    "\n",
    "triarea=lambda a,b,c,s:(s*(s-a)*(s-b)*(s-c))**0.5  \n",
    "\n",
    "                        \n",
    "                        \n",
    "                        \n",
    "                        \n",
    "                        \n",
    "while(1):\n",
    "    print(\"\\n1.square\\n2.rectangle\\n3.triangle\\n4.exit\")\n",
    "    ch=int(input(\"enter any option:\"))\n",
    "    if ch==1:\n",
    "        a=int(input(\"enter the side:\"))\n",
    "        print(\"area of square:\",sarea(a))\n",
    "                     \n",
    "                     \n",
    "    elif ch==2:\n",
    "        a=int(input(\"enter the length:\"))\n",
    "        b=int(input(\"enter the breadth:\"))\n",
    "        print(\"area of rectangle:\",rectarea(a,b))\n",
    "                     \n",
    "                     \n",
    "    \n",
    "        \n",
    "                     \n",
    "    elif ch==3:\n",
    "        a=int(input(\"enter the 1st side:\"))\n",
    "        b=int(input(\"enter the 2nd side:\"))\n",
    "        c=int(input(\"enter the 3rd side:\"))\n",
    "        s=(a+b+c)/2\n",
    "        print(\"area of triangle:\",triarea(a,b,c,s))\n",
    "        \n",
    "    else:\n",
    "        print(\"exit\")\n",
    "        break\n",
    "        \n",
    "                 "
   ]
  },
  {
   "cell_type": "code",
   "execution_count": null,
   "metadata": {
    "collapsed": true
   },
   "outputs": [],
   "source": []
  }
 ],
 "metadata": {
  "kernelspec": {
   "display_name": "Python 3",
   "language": "python",
   "name": "python3"
  },
  "language_info": {
   "codemirror_mode": {
    "name": "ipython",
    "version": 3
   },
   "file_extension": ".py",
   "mimetype": "text/x-python",
   "name": "python",
   "nbconvert_exporter": "python",
   "pygments_lexer": "ipython3",
   "version": "3.6.3"
  }
 },
 "nbformat": 4,
 "nbformat_minor": 2
}
