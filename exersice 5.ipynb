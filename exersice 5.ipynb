{
 "cells": [
  {
   "cell_type": "code",
   "execution_count": 6,
   "metadata": {},
   "outputs": [
    {
     "name": "stdout",
     "output_type": "stream",
     "text": [
      "enter the comma-separated number:1,2,3,4,5\n",
      "list is: ['1', '2', '3', '4', '5']\n"
     ]
    }
   ],
   "source": [
    "#sequence of comma separated numbers\n",
    "a=input(\"enter the comma-separated number:\")\n",
    "l=a.split(\",\")\n",
    "print(\"list is:\",l)"
   ]
  },
  {
   "cell_type": "code",
   "execution_count": 4,
   "metadata": {},
   "outputs": [
    {
     "name": "stdout",
     "output_type": "stream",
     "text": [
      "enter the comma-sepaated color:red,green,blue,black\n",
      "the first color is : red\n",
      "the last color is: black\n"
     ]
    }
   ],
   "source": [
    "#comma-separsted colors\n",
    "a=input(\"enter the comma-sepaated color:\")\n",
    "l=a.split(\",\")\n",
    "print(\"the first color is :\",l[0])\n",
    "print(\"the last color is:\",l[-1])\n",
    "\n",
    "\n"
   ]
  },
  {
   "cell_type": "code",
   "execution_count": 9,
   "metadata": {},
   "outputs": [
    {
     "name": "stdout",
     "output_type": "stream",
     "text": [
      "enter the filename:saranya.c\n",
      "extension file: c\n"
     ]
    }
   ],
   "source": [
    "#accept file names \n",
    "f=input(\"enter the filename:\")\n",
    "extension=f.split('.')\n",
    "print(\"extension file:\",extension[-1])"
   ]
  },
  {
   "cell_type": "code",
   "execution_count": null,
   "metadata": {},
   "outputs": [],
   "source": []
  },
  {
   "cell_type": "code",
   "execution_count": null,
   "metadata": {
    "collapsed": true
   },
   "outputs": [],
   "source": []
  }
 ],
 "metadata": {
  "kernelspec": {
   "display_name": "Python 3",
   "language": "python",
   "name": "python3"
  },
  "language_info": {
   "codemirror_mode": {
    "name": "ipython",
    "version": 3
   },
   "file_extension": ".py",
   "mimetype": "text/x-python",
   "name": "python",
   "nbconvert_exporter": "python",
   "pygments_lexer": "ipython3",
   "version": "3.6.3"
  }
 },
 "nbformat": 4,
 "nbformat_minor": 2
}
