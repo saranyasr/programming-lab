{
 "cells": [
  {
   "cell_type": "code",
   "execution_count": 1,
   "metadata": {},
   "outputs": [
    {
     "name": "stdout",
     "output_type": "stream",
     "text": [
      "enter the side:2\n",
      "area is= 4\n"
     ]
    }
   ],
   "source": [
    "#compute the area of square\n",
    "n=int(input(\"enter the side:\"))\n",
    "area=n*n\n",
    "print(\"area is=\",area)"
   ]
  },
  {
   "cell_type": "code",
   "execution_count": 3,
   "metadata": {},
   "outputs": [
    {
     "name": "stdout",
     "output_type": "stream",
     "text": [
      "enter your name:saranya\n",
      "hello,saranya!\n"
     ]
    }
   ],
   "source": [
    "#greeting with name\n",
    "name=input(\"enter your name:\")\n",
    "print('hello,'+name+'!')\n"
   ]
  },
  {
   "cell_type": "code",
   "execution_count": 5,
   "metadata": {},
   "outputs": [
    {
     "name": "stdout",
     "output_type": "stream",
     "text": [
      "enter a number6\n",
      "5 6 7\n"
     ]
    }
   ],
   "source": [
    "#reads an intiger number and prints its  previous and next number\n",
    "n=int(input(\"enter a number\"))\n",
    "print(n-1,n,n+1)"
   ]
  },
  {
   "cell_type": "code",
   "execution_count": 6,
   "metadata": {},
   "outputs": [
    {
     "name": "stdout",
     "output_type": "stream",
     "text": [
      "enter principle amount3000\n",
      "enter no.of years2\n",
      "enter rate of interest5\n",
      "simple interest is: 300.0\n"
     ]
    }
   ],
   "source": [
    "#computing simple interest\n",
    "p=int(input(\"enter principle amount\"))\n",
    "n=int(input(\"enter no.of years\"))\n",
    "r=float(input(\"enter rate of interest\"))\n",
    "si=(p*n*r)/100\n",
    "print(\"simple interest is:\",si)"
   ]
  },
  {
   "cell_type": "code",
   "execution_count": 7,
   "metadata": {},
   "outputs": [
    {
     "name": "stdout",
     "output_type": "stream",
     "text": [
      "enter base:4\n",
      "enter height:5\n",
      "area of right angled triangle is; 10.0\n"
     ]
    }
   ],
   "source": [
    "#area of triangle\n",
    "a=int(input(\"enter base:\"))\n",
    "b=int(input(\"enter height:\"))\n",
    "area=(a*b)/2\n",
    "print(\"area of right angled triangle is;\",area)"
   ]
  },
  {
   "cell_type": "code",
   "execution_count": null,
   "metadata": {
    "collapsed": true
   },
   "outputs": [],
   "source": []
  }
 ],
 "metadata": {
  "kernelspec": {
   "display_name": "Python 3",
   "language": "python",
   "name": "python3"
  },
  "language_info": {
   "codemirror_mode": {
    "name": "ipython",
    "version": 3
   },
   "file_extension": ".py",
   "mimetype": "text/x-python",
   "name": "python",
   "nbconvert_exporter": "python",
   "pygments_lexer": "ipython3",
   "version": "3.6.3"
  }
 },
 "nbformat": 4,
 "nbformat_minor": 2
}
