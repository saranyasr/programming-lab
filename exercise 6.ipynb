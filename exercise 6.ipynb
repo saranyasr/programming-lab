{
 "cells": [
  {
   "cell_type": "code",
   "execution_count": 4,
   "metadata": {},
   "outputs": [
    {
     "name": "stdout",
     "output_type": "stream",
     "text": [
      "enter the limit of fibonacy series:5\n",
      "fibonacy sreies upto 5 terms are:\n",
      "0\n",
      "1\n",
      "1\n",
      "2\n",
      "3\n"
     ]
    }
   ],
   "source": [
    "#fibonacy series up to a limit\n",
    "n=int(input(\"enter the limit of fibonacy series:\"))\n",
    "a=c=d=0\n",
    "b=1\n",
    "print(\"fibonacy sreies upto\",n,\"terms are:\")\n",
    "while d<n:\n",
    "     print(c)\n",
    "     a=b\n",
    "     b=c\n",
    "     c=a+b\n",
    "     d=d+1"
   ]
  },
  {
   "cell_type": "code",
   "execution_count": 12,
   "metadata": {},
   "outputs": [
    {
     "name": "stdout",
     "output_type": "stream",
     "text": [
      "enter first number:25\n",
      "enter second number:55\n",
      "the greatest common diviser of  25 and 55 is: 5\n"
     ]
    }
   ],
   "source": [
    "#greatest common diviser of 2 numbers\n",
    "num1=int(input(\"enter first number:\"))\n",
    "num2=int(input(\"enter second number:\"))\n",
    "if num1<num2:\n",
    "    m=num1\n",
    "else:\n",
    "    m=num2\n",
    "while m>0:\n",
    "        if (num1%m==0) and (num2%m==0):\n",
    "            print(\"the greatest common diviser of \",num1,\"and\",num2,\"is:\",m)\n",
    "            break\n",
    "        m=m-1 "
   ]
  },
  {
   "cell_type": "code",
   "execution_count": 4,
   "metadata": {},
   "outputs": [
    {
     "name": "stdout",
     "output_type": "stream",
     "text": [
      "enter some coma separated numbers:1,2,3,4,5\n",
      "sum of all items in a list ['1', '2', '3', '4', '5'] is: 15\n"
     ]
    }
   ],
   "source": [
    "#sum of elements of a list\n",
    "a=input(\"enter some coma separated numbers:\")\n",
    "list=a.split(\",\")\n",
    "sum=0\n",
    "for i in list:\n",
    "    sum=sum+int(i)\n",
    "print(\"sum of all items in a list\",list,\"is:\",sum)\n"
   ]
  },
  {
   "cell_type": "code",
   "execution_count": 27,
   "metadata": {},
   "outputs": [
    {
     "name": "stdout",
     "output_type": "stream",
     "text": [
      "enter a number:5\n",
      "the required pyramid is:\n",
      "1 \n",
      "\n",
      "2 4 \n",
      "\n",
      "3 6 9 \n",
      "\n",
      "4 8 12 16 \n",
      "\n",
      "5 10 15 20 25 \n",
      "\n"
     ]
    }
   ],
   "source": [
    "#pyramid of multiples\n",
    "n=int(input(\"enter a number:\"))\n",
    "print(\"the required pyramid is:\")\n",
    "for i in range(1,n+1):\n",
    "    for j in range(1,i+1):\n",
    "      print(i*j,end=\" \")\n",
    "    print(\"\\n\")"
   ]
  },
  {
   "cell_type": "code",
   "execution_count": 10,
   "metadata": {},
   "outputs": [
    {
     "name": "stdout",
     "output_type": "stream",
     "text": [
      "enter :saranya\n",
      "freequency of the charecter s is: 1\n",
      "freequency of the charecter a is: 3\n",
      "freequency of the charecter r is: 1\n",
      "freequency of the charecter n is: 1\n",
      "freequency of the charecter y is: 1\n"
     ]
    }
   ],
   "source": [
    "#freequency of charecters of a string\n",
    "n=input(\"enter :\")\n",
    "l=list(n)\n",
    "s=[]\n",
    "[s.append(x)for x in l if x not in s]\n",
    "for i in s:\n",
    "    m=l.count(i)\n",
    "    print(\"freequency of the charecter\",i,\"is:\",m)"
   ]
  },
  {
   "cell_type": "code",
   "execution_count": 21,
   "metadata": {},
   "outputs": [
    {
     "name": "stdout",
     "output_type": "stream",
     "text": [
      "enter a number:16\n",
      "the factors of the given number 16 are:\n",
      "16  8  4  2  1  "
     ]
    }
   ],
   "source": [
    "#factors of a given number\n",
    "num=int(input(\"enter a number:\"))\n",
    "i=num\n",
    "print(\"the factors of the given number\",num,\"are:\")\n",
    "while i>0:\n",
    "    if(num%i==0):\n",
    "        print(i,\" \",end=\"\")\n",
    "    i=i-1\n",
    "    "
   ]
  },
  {
   "cell_type": "code",
   "execution_count": 22,
   "metadata": {},
   "outputs": [
    {
     "name": "stdout",
     "output_type": "stream",
     "text": [
      "*\n",
      "\n",
      "**\n",
      "\n",
      "***\n",
      "\n",
      "****\n",
      "\n",
      "*****\n",
      "\n",
      "****\n",
      "\n",
      "***\n",
      "\n",
      "**\n",
      "\n",
      "*\n",
      "\n"
     ]
    }
   ],
   "source": [
    "#star pattern\n",
    "for i in range(0,4):\n",
    "    for j in range(0,i+1):\n",
    "         print(\"*\",end=\"\")\n",
    "    print(\"\\n\")\n",
    "for i in range(4,-1,-1):\n",
    "    for j in range(0,i+1):\n",
    "        print(\"*\",end=\"\")\n",
    "    print(\"\\n\")\n"
   ]
  },
  {
   "cell_type": "code",
   "execution_count": null,
   "metadata": {
    "collapsed": true
   },
   "outputs": [],
   "source": [
    "#fibonacy series\n",
    "n=int(input(\"enter the limit : \"))\n",
    "a=0\n",
    "c=0\n",
    "d=0\n",
    "b=1\n",
    "print(\"Fibanocci series is : \")\n",
    "while (d<n):\n",
    "      print(c)\n",
    "      a=b\n",
    "      b=c\n",
    "      c=a+b\n",
    "      d=d+1"
   ]
  }
 ],
 "metadata": {
  "kernelspec": {
   "display_name": "Python 3",
   "language": "python",
   "name": "python3"
  },
  "language_info": {
   "codemirror_mode": {
    "name": "ipython",
    "version": 3
   },
   "file_extension": ".py",
   "mimetype": "text/x-python",
   "name": "python",
   "nbconvert_exporter": "python",
   "pygments_lexer": "ipython3",
   "version": "3.6.3"
  }
 },
 "nbformat": 4,
 "nbformat_minor": 2
}
