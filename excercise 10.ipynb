{
 "cells": [
  {
   "cell_type": "code",
   "execution_count": 1,
   "metadata": {},
   "outputs": [
    {
     "name": "stdout",
     "output_type": "stream",
     "text": [
      "\n",
      "1.circle\n",
      "2.rectangle\n",
      "3.sphere\n",
      "4.cuboid\n",
      "5.exit\n",
      "enter any option:1\n",
      "enter the radius:2\n",
      "area of circle: 12.566370614359172 \n",
      " perimeter of circle: 12.566370614359172\n",
      "\n",
      "1.circle\n",
      "2.rectangle\n",
      "3.sphere\n",
      "4.cuboid\n",
      "5.exit\n",
      "enter any option:2\n",
      "enter the length:2\n",
      "enter the breadth:3\n",
      "area of rectangle: 6 \n",
      " perimeter of rectangle: 10\n",
      "\n",
      "1.circle\n",
      "2.rectangle\n",
      "3.sphere\n",
      "4.cuboid\n",
      "5.exit\n",
      "enter any option:3\n",
      "enter the radius:3\n",
      "area of the sphere: 113.09733552923255\n",
      "circumference of the sphere: 18.84955592153876\n",
      "\n",
      "1.circle\n",
      "2.rectangle\n",
      "3.sphere\n",
      "4.cuboid\n",
      "5.exit\n",
      "enter any option:4\n",
      "enter the length:4\n",
      "enter the breadth:5\n",
      "enter the  height:6\n",
      "area of the cuboid: 148\n",
      "perimeter of the cuboid: 60\n",
      "\n",
      "1.circle\n",
      "2.rectangle\n",
      "3.sphere\n",
      "4.cuboid\n",
      "5.exit\n",
      "enter any option:5\n",
      "exit\n"
     ]
    }
   ],
   "source": [
    "#example of package program\n",
    "\n",
    "import Graphics.circle \n",
    "from Graphics.rectangle import*\n",
    "from Graphics.Graphics3D.cuboid1 import*\n",
    "from Graphics.Graphics3D.sphere1 import*\n",
    "while(1):\n",
    "    print(\"\\n1.circle\\n2.rectangle\\n3.sphere\\n4.cuboid\\n5.exit\")\n",
    "    ch=int(input(\"enter any option:\"))\n",
    "    if ch==1:\n",
    "        r=int(input(\"enter the radius:\"))\n",
    "        carea=Graphics.circle.circlearea(r)\n",
    "        cper=Graphics.circle.circleperimeter(r)\n",
    "        print(\"area of circle:\",carea,\"\\n perimeter of circle:\",cper)\n",
    "    \n",
    "    \n",
    "    elif ch==2:\n",
    "        a=int(input(\"enter the length:\"))\n",
    "        b=int(input(\"enter the breadth:\"))\n",
    "        rarea=Graphics.rectangle.rectarea(a,b)\n",
    "        rper=Graphics.rectangle.rectperimeter(a,b)\n",
    "        print(\"area of rectangle:\",rarea,\"\\n perimeter of rectangle:\",rper)\n",
    "    \n",
    "    \n",
    "    elif ch==3:\n",
    "        r=int(input(\"enter the radius:\"))\n",
    "        spharea=spherearea(r)\n",
    "        print(\"area of the sphere:\",spharea)\n",
    "        sphcircum=spherecircum(r)\n",
    "        print(\"circumference of the sphere:\",sphcircum)\n",
    "    \n",
    "    \n",
    "    elif ch==4:\n",
    "        l=int(input(\"enter the length:\"))\n",
    "        b=int(input(\"enter the breadth:\"))\n",
    "        h=int(input(\"enter the  height:\"))\n",
    "        cuba=cuboidarea(l,b,h)\n",
    "        print(\"area of the cuboid:\",cuba)\n",
    "        cubperi=cuboidper(l,b,h)\n",
    "        print(\"perimeter of the cuboid:\",cubperi)\n",
    "    else:\n",
    "        print(\"exit\")\n",
    "        break\n",
    "        "
   ]
  },
  {
   "cell_type": "code",
   "execution_count": 3,
   "metadata": {},
   "outputs": [
    {
     "name": "stdout",
     "output_type": "stream",
     "text": [
      "\n",
      "1.circle\n",
      "2.rectangle\n",
      "3.exit\n",
      "enter any option:1\n",
      "enter the radius:2\n",
      "area of circle: 12.566370614359172 \n",
      " perimeter of circle: 12.566370614359172\n",
      "\n",
      "1.circle\n",
      "2.rectangle\n",
      "3.exit\n",
      "enter any option:2\n",
      "enter the length:3\n",
      "enter the breadth:4\n",
      "area of rectangle: 12 \n",
      " perimeter of rectangle: 14\n",
      "\n",
      "1.circle\n",
      "2.rectangle\n",
      "3.exit\n",
      "enter any option:3\n",
      "exiting\n"
     ]
    }
   ],
   "source": [
    "#area of circle and rectangle uding module\n",
    "import circle\n",
    "from rectangle import*\n",
    "\n",
    "\n",
    "\n",
    "\n",
    "\n",
    "while(1):\n",
    "    print(\"\\n1.circle\\n2.rectangle\\n3.exit\")\n",
    "    ch=int(input(\"enter any option:\"))\n",
    "    if ch==1:\n",
    "        r=int(input(\"enter the radius:\"))\n",
    "        carea=circle.circlearea(r)\n",
    "        cper=circle.circleperimeter(r)\n",
    "        print(\"area of circle:\",carea,\"\\n perimeter of circle:\",cper)\n",
    "    \n",
    "    \n",
    "    elif ch==2:\n",
    "        a=int(input(\"enter the length:\"))\n",
    "        b=int(input(\"enter the breadth:\"))\n",
    "        rarea=rectarea(a,b)\n",
    "        rper=rectperimeter(a,b)\n",
    "        print(\"area of rectangle:\",rarea,\"\\n perimeter of rectangle:\",rper)\n",
    "    else:\n",
    "        print(\"exiting\")\n",
    "        break"
   ]
  },
  {
   "cell_type": "code",
   "execution_count": 12,
   "metadata": {},
   "outputs": [
    {
     "name": "stdout",
     "output_type": "stream",
     "text": [
      "current date: 2022-01-19\n",
      "date befor 5 days: 2022-01-14\n"
     ]
    }
   ],
   "source": [
    "#1)to substract the days frome current date\n",
    "#date before 5 days\n",
    "from datetime import datetime,timedelta\n",
    "cd=datetime.now()\n",
    "print(\"current date:\",cd.date())\n",
    "d5=cd-timedelta(days=5)\n",
    "print(\"date befor 5 days:\",d5.date())"
   ]
  },
  {
   "cell_type": "code",
   "execution_count": 4,
   "metadata": {},
   "outputs": [
    {
     "name": "stdout",
     "output_type": "stream",
     "text": [
      "date of yesterday: 2022-01-18\n",
      "date of today: 2022-01-19\n",
      "date of tomorrow: 2022-01-20\n"
     ]
    }
   ],
   "source": [
    "#2)to print yesterday,today,tomorrow\n",
    "from datetime import datetime,timedelta\n",
    "cd=datetime.now()\n",
    "ys=cd-timedelta(days=1)\n",
    "tw=cd+timedelta(days=1)\n",
    "print(\"date of yesterday:\",ys.date())\n",
    "print(\"date of today:\",cd.date())\n",
    "print(\"date of tomorrow:\",tw.date())"
   ]
  },
  {
   "cell_type": "code",
   "execution_count": 5,
   "metadata": {},
   "outputs": [
    {
     "name": "stdout",
     "output_type": "stream",
     "text": [
      "day 1 : 2022-01-19\n",
      "day 2 : 2022-01-20\n",
      "day 3 : 2022-01-21\n",
      "day 4 : 2022-01-22\n",
      "day 5 : 2022-01-23\n"
     ]
    }
   ],
   "source": [
    "#next 5 days starting from today\n",
    "from datetime import datetime,timedelta\n",
    "cd=datetime.now()\n",
    "for i in range(0,5):\n",
    "    ys=cd+timedelta(days=i)\n",
    "    print(\"day\",i+1,\":\",ys.date())"
   ]
  },
  {
   "cell_type": "code",
   "execution_count": 10,
   "metadata": {},
   "outputs": [
    {
     "name": "stdout",
     "output_type": "stream",
     "text": [
      "enter date1(yyyy-mm-dd):2000-09-18\n",
      "2000-09-18\n",
      "enter date2(yyyy-mm-dd):2022-01-18\n",
      "2022-01-18\n",
      "the number of days between entered dates: 7792\n"
     ]
    }
   ],
   "source": [
    "#days between 2 given dates\n",
    "from datetime import datetime,timedelta\n",
    "strdate1=str(input(\"enter date1(yyyy-mm-dd):\"))\n",
    "ddate1=datetime.strptime(strdate1,\"%Y-%m-%d\")\n",
    "print(ddate1.date())\n",
    "strdate2=str(input(\"enter date2(yyyy-mm-dd):\"))\n",
    "ddate2=datetime.strptime(strdate2,\"%Y-%m-%d\")\n",
    "print(ddate2.date())\n",
    "d3=ddate2-ddate1\n",
    "print(\"the number of days between entered dates:\",d3.days)\n",
    "\n"
   ]
  },
  {
   "cell_type": "code",
   "execution_count": null,
   "metadata": {
    "collapsed": true
   },
   "outputs": [],
   "source": []
  }
 ],
 "metadata": {
  "kernelspec": {
   "display_name": "Python 3",
   "language": "python",
   "name": "python3"
  },
  "language_info": {
   "codemirror_mode": {
    "name": "ipython",
    "version": 3
   },
   "file_extension": ".py",
   "mimetype": "text/x-python",
   "name": "python",
   "nbconvert_exporter": "python",
   "pygments_lexer": "ipython3",
   "version": "3.6.3"
  }
 },
 "nbformat": 4,
 "nbformat_minor": 2
}
