{
 "cells": [
  {
   "cell_type": "code",
   "execution_count": 3,
   "metadata": {},
   "outputs": [
    {
     "name": "stdout",
     "output_type": "stream",
     "text": [
      "first number:10\n",
      "second number:0\n",
      "division by zero error occured\n"
     ]
    }
   ],
   "source": [
    "#try exception\n",
    "\n",
    "try:\n",
    "    \n",
    "    a=int(input(\"first number:\"))\n",
    "    b=int(input(\"second number:\"))\n",
    "    result=a/b\n",
    "    print(\"Result=\",result)\n",
    "except ZeroDivisionError:\n",
    "    print(\"division by zero error occured\")"
   ]
  },
  {
   "cell_type": "code",
   "execution_count": 5,
   "metadata": {},
   "outputs": [
    {
     "name": "stdout",
     "output_type": "stream",
     "text": [
      "first number:3\n",
      "second number:d\n",
      "error occured\n"
     ]
    }
   ],
   "source": [
    "#handle multiple exceptions\n",
    "try:\n",
    "    \n",
    "    a=int(input(\"first number:\"))\n",
    "    b=int(input(\"second number:\"))\n",
    "    result=a/b\n",
    "    print(\"Result=\",result)\n",
    "except(ZeroDivisionError,ValueError):\n",
    "    print(\"error occured\")"
   ]
  },
  {
   "cell_type": "code",
   "execution_count": 10,
   "metadata": {},
   "outputs": [
    {
     "name": "stdout",
     "output_type": "stream",
     "text": [
      "enter a number:2\n",
      "the value is too small\n",
      "enter a number:5\n",
      "the value is too small\n",
      "enter a number:11\n",
      "the value is too large\n",
      "enter a number:16\n",
      "the value is too large\n",
      "enter a number:10\n",
      "you guesses it right\n"
     ]
    }
   ],
   "source": [
    "#exception handling\n",
    "class error(Exception):\n",
    "    'base class for other exceptions'\n",
    "    pass\n",
    "class ValueTooSmallError(error):\n",
    "    pass\n",
    "class ValueTooLargeError(error):\n",
    "    pass\n",
    "num=10\n",
    "while True:\n",
    "    try:\n",
    "        in_num=int(input(\"enter a number:\"))\n",
    "        if in_num<num:\n",
    "            raise ValueTooSmallError\n",
    "        elif in_num>num:\n",
    "            raise ValueTooLargeError\n",
    "        break\n",
    "            \n",
    "    except ValueTooSmallError:\n",
    "        print(\"the value is too small\")\n",
    "    except ValueTooLargeError:\n",
    "        print(\"the value is too large\")\n",
    "print(\"you guesses it right\")"
   ]
  },
  {
   "cell_type": "code",
   "execution_count": 12,
   "metadata": {},
   "outputs": [
    {
     "name": "stdout",
     "output_type": "stream",
     "text": [
      "x shouldbe'hello'\n"
     ]
    }
   ],
   "source": [
    "#assert satement\n",
    "x=\"hello\"\n",
    "try:\n",
    "    assert x==\"goodbye\",\"x shouldbe'hello'\"\n",
    "except AssertionError as args:\n",
    "    print(args)"
   ]
  },
  {
   "cell_type": "code",
   "execution_count": null,
   "metadata": {
    "collapsed": true
   },
   "outputs": [],
   "source": []
  }
 ],
 "metadata": {
  "kernelspec": {
   "display_name": "Python 3",
   "language": "python",
   "name": "python3"
  },
  "language_info": {
   "codemirror_mode": {
    "name": "ipython",
    "version": 3
   },
   "file_extension": ".py",
   "mimetype": "text/x-python",
   "name": "python",
   "nbconvert_exporter": "python",
   "pygments_lexer": "ipython3",
   "version": "3.6.3"
  }
 },
 "nbformat": 4,
 "nbformat_minor": 2
}
