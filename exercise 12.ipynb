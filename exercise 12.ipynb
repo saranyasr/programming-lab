{
 "cells": [
  {
   "cell_type": "code",
   "execution_count": 3,
   "metadata": {},
   "outputs": [
    {
     "name": "stdout",
     "output_type": "stream",
     "text": [
      "enter length of 1st rectangle:2\n",
      "enter breadth of 1st rectangle:3\n",
      "enter length of 2nd rectangle:4\n",
      "enter breadth of 2nd rectangle:2\n",
      "perimeter of 1st: 10\n",
      "perimeter of 2nd: 12\n",
      "2nd rectangle is larger in area and difference is, 2\n"
     ]
    }
   ],
   "source": [
    "#area of rectangle using\n",
    "class rectangle:\n",
    "    def area(self,l,b):\n",
    "        return l*b\n",
    "    def pmtr(self,l,b):\n",
    "        return (l+b)*2\n",
    "\n",
    "    \n",
    "r1=rectangle()\n",
    "r2=rectangle()\n",
    "l1=int(input(\"enter length of 1st rectangle:\"))\n",
    "b1=int(input(\"enter breadth of 1st rectangle:\"))\n",
    "\n",
    "l2=int(input(\"enter length of 2nd rectangle:\"))\n",
    "b2=int(input(\"enter breadth of 2nd rectangle:\"))\n",
    "\n",
    "\n",
    "print(\"perimeter of 1st:\",r1.pmtr(l1,b1))\n",
    "print(\"perimeter of 2nd:\",r2.pmtr(l2,b2))\n",
    "\n",
    "a1=r1.area(l1,b1)\n",
    "a2=r2.area(l2,b2)\n",
    "\n",
    "if a1>a2:\n",
    "    print(\"1st rectangle is larger in area and difference is,\",(a1-a2))\n",
    "else:\n",
    "    print(\"2nd rectangle is larger in area and difference is,\",(a2-a1))\n",
    "    \n"
   ]
  },
  {
   "cell_type": "code",
   "execution_count": null,
   "metadata": {},
   "outputs": [],
   "source": [
    "#details of students using constructor\n",
    "class student:\n",
    "    \n",
    "    def __init__(acc,r,n,c):\n",
    "        \n",
    "        acc.rno=r\n",
    "        acc.name=n\n",
    "        acc.cls=c\n",
    "    def disp(acc):\n",
    "        print(\"Rollno,Name,Class=>\",acc.rno,\",\",acc.name,\",\",acc.cls) \n",
    "        \n",
    "        \n",
    "nm=input(\"enter name:\")\n",
    "rn=int(input(\"enter roll no:\"))\n",
    "cl=int(input(\"enter class:\"))\n",
    "stud=student(rn,nm,cl)\n",
    "stud.disp()"
   ]
  },
  {
   "cell_type": "code",
   "execution_count": null,
   "metadata": {
    "collapsed": true
   },
   "outputs": [],
   "source": []
  }
 ],
 "metadata": {
  "kernelspec": {
   "display_name": "Python 3",
   "language": "python",
   "name": "python3"
  },
  "language_info": {
   "codemirror_mode": {
    "name": "ipython",
    "version": 3
   },
   "file_extension": ".py",
   "mimetype": "text/x-python",
   "name": "python",
   "nbconvert_exporter": "python",
   "pygments_lexer": "ipython3",
   "version": "3.6.3"
  }
 },
 "nbformat": 4,
 "nbformat_minor": 2
}
