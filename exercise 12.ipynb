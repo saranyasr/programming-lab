{
 "cells": [
  {
   "cell_type": "code",
   "execution_count": 3,
   "metadata": {},
   "outputs": [
    {
     "name": "stdout",
     "output_type": "stream",
     "text": [
      "enter length of 1st rectangle:2\n",
      "enter breadth of 1st rectangle:3\n",
      "enter length of 2nd rectangle:4\n",
      "enter breadth of 2nd rectangle:2\n",
      "perimeter of 1st: 10\n",
      "perimeter of 2nd: 12\n",
      "2nd rectangle is larger in area and difference is, 2\n"
     ]
    }
   ],
   "source": [
    "#area of rectangle using\n",
    "class rectangle:\n",
    "    def area(self,l,b):\n",
    "        return l*b\n",
    "    def pmtr(self,l,b):\n",
    "        return (l+b)*2\n",
    "\n",
    "    \n",
    "r1=rectangle()\n",
    "r2=rectangle()\n",
    "l1=int(input(\"enter length of 1st rectangle:\"))\n",
    "b1=int(input(\"enter breadth of 1st rectangle:\"))\n",
    "\n",
    "l2=int(input(\"enter length of 2nd rectangle:\"))\n",
    "b2=int(input(\"enter breadth of 2nd rectangle:\"))\n",
    "\n",
    "\n",
    "print(\"perimeter of 1st:\",r1.pmtr(l1,b1))\n",
    "print(\"perimeter of 2nd:\",r2.pmtr(l2,b2))\n",
    "\n",
    "a1=r1.area(l1,b1)\n",
    "a2=r2.area(l2,b2)\n",
    "\n",
    "if a1>a2:\n",
    "    print(\"1st rectangle is larger in area and difference is,\",(a1-a2))\n",
    "else:\n",
    "    print(\"2nd rectangle is larger in area and difference is,\",(a2-a1))\n",
    "    \n"
   ]
  },
  {
   "cell_type": "code",
   "execution_count": 2,
   "metadata": {},
   "outputs": [
    {
     "name": "stdout",
     "output_type": "stream",
     "text": [
      "enter name:saranya\n",
      "enter roll no:21\n",
      "enter class:16\n",
      "Rollno,Name,Class=> 21 , saranya , 16\n"
     ]
    }
   ],
   "source": [
    "#details of students using constructor\n",
    "class student:\n",
    "    \n",
    "    def __init__(acc,r,n,c):\n",
    "        \n",
    "        acc.rno=r\n",
    "        acc.name=n\n",
    "        acc.cls=c\n",
    "    def disp(acc):\n",
    "        print(\"Rollno,Name,Class=>\",acc.rno,\",\",acc.name,\",\",acc.cls) \n",
    "        \n",
    "        \n",
    "nm=input(\"enter name:\")\n",
    "rn=int(input(\"enter roll no:\"))\n",
    "cl=int(input(\"enter class:\"))\n",
    "stud=student(rn,nm,cl)\n",
    "stud.disp()"
   ]
  },
  {
   "cell_type": "code",
   "execution_count": 2,
   "metadata": {},
   "outputs": [
    {
     "ename": "KeyboardInterrupt",
     "evalue": "",
     "output_type": "error",
     "traceback": [
      "\u001b[0;31m---------------------------------------------------------------------------\u001b[0m",
      "\u001b[0;31mKeyboardInterrupt\u001b[0m                         Traceback (most recent call last)",
      "\u001b[0;32m~/anaconda3/lib/python3.6/site-packages/ipykernel/kernelbase.py\u001b[0m in \u001b[0;36m_input_request\u001b[0;34m(self, prompt, ident, parent, password)\u001b[0m\n\u001b[1;32m    729\u001b[0m             \u001b[0;32mtry\u001b[0m\u001b[0;34m:\u001b[0m\u001b[0;34m\u001b[0m\u001b[0m\n\u001b[0;32m--> 730\u001b[0;31m                 \u001b[0mident\u001b[0m\u001b[0;34m,\u001b[0m \u001b[0mreply\u001b[0m \u001b[0;34m=\u001b[0m \u001b[0mself\u001b[0m\u001b[0;34m.\u001b[0m\u001b[0msession\u001b[0m\u001b[0;34m.\u001b[0m\u001b[0mrecv\u001b[0m\u001b[0;34m(\u001b[0m\u001b[0mself\u001b[0m\u001b[0;34m.\u001b[0m\u001b[0mstdin_socket\u001b[0m\u001b[0;34m,\u001b[0m \u001b[0;36m0\u001b[0m\u001b[0;34m)\u001b[0m\u001b[0;34m\u001b[0m\u001b[0m\n\u001b[0m\u001b[1;32m    731\u001b[0m             \u001b[0;32mexcept\u001b[0m \u001b[0mException\u001b[0m\u001b[0;34m:\u001b[0m\u001b[0;34m\u001b[0m\u001b[0m\n",
      "\u001b[0;32m~/anaconda3/lib/python3.6/site-packages/jupyter_client/session.py\u001b[0m in \u001b[0;36mrecv\u001b[0;34m(self, socket, mode, content, copy)\u001b[0m\n\u001b[1;32m    795\u001b[0m         \u001b[0;32mtry\u001b[0m\u001b[0;34m:\u001b[0m\u001b[0;34m\u001b[0m\u001b[0m\n\u001b[0;32m--> 796\u001b[0;31m             \u001b[0mmsg_list\u001b[0m \u001b[0;34m=\u001b[0m \u001b[0msocket\u001b[0m\u001b[0;34m.\u001b[0m\u001b[0mrecv_multipart\u001b[0m\u001b[0;34m(\u001b[0m\u001b[0mmode\u001b[0m\u001b[0;34m,\u001b[0m \u001b[0mcopy\u001b[0m\u001b[0;34m=\u001b[0m\u001b[0mcopy\u001b[0m\u001b[0;34m)\u001b[0m\u001b[0;34m\u001b[0m\u001b[0m\n\u001b[0m\u001b[1;32m    797\u001b[0m         \u001b[0;32mexcept\u001b[0m \u001b[0mzmq\u001b[0m\u001b[0;34m.\u001b[0m\u001b[0mZMQError\u001b[0m \u001b[0;32mas\u001b[0m \u001b[0me\u001b[0m\u001b[0;34m:\u001b[0m\u001b[0;34m\u001b[0m\u001b[0m\n",
      "\u001b[0;32m~/anaconda3/lib/python3.6/site-packages/zmq/sugar/socket.py\u001b[0m in \u001b[0;36mrecv_multipart\u001b[0;34m(self, flags, copy, track)\u001b[0m\n\u001b[1;32m    394\u001b[0m         \"\"\"\n\u001b[0;32m--> 395\u001b[0;31m         \u001b[0mparts\u001b[0m \u001b[0;34m=\u001b[0m \u001b[0;34m[\u001b[0m\u001b[0mself\u001b[0m\u001b[0;34m.\u001b[0m\u001b[0mrecv\u001b[0m\u001b[0;34m(\u001b[0m\u001b[0mflags\u001b[0m\u001b[0;34m,\u001b[0m \u001b[0mcopy\u001b[0m\u001b[0;34m=\u001b[0m\u001b[0mcopy\u001b[0m\u001b[0;34m,\u001b[0m \u001b[0mtrack\u001b[0m\u001b[0;34m=\u001b[0m\u001b[0mtrack\u001b[0m\u001b[0;34m)\u001b[0m\u001b[0;34m]\u001b[0m\u001b[0;34m\u001b[0m\u001b[0m\n\u001b[0m\u001b[1;32m    396\u001b[0m         \u001b[0;31m# have first part already, only loop while more to receive\u001b[0m\u001b[0;34m\u001b[0m\u001b[0;34m\u001b[0m\u001b[0m\n",
      "\u001b[0;32mzmq/backend/cython/socket.pyx\u001b[0m in \u001b[0;36mzmq.backend.cython.socket.Socket.recv (zmq/backend/cython/socket.c:7683)\u001b[0;34m()\u001b[0m\n",
      "\u001b[0;32mzmq/backend/cython/socket.pyx\u001b[0m in \u001b[0;36mzmq.backend.cython.socket.Socket.recv (zmq/backend/cython/socket.c:7460)\u001b[0;34m()\u001b[0m\n",
      "\u001b[0;32mzmq/backend/cython/socket.pyx\u001b[0m in \u001b[0;36mzmq.backend.cython.socket._recv_copy (zmq/backend/cython/socket.c:2344)\u001b[0;34m()\u001b[0m\n",
      "\u001b[0;32m~/anaconda3/lib/python3.6/site-packages/zmq/backend/cython/checkrc.pxd\u001b[0m in \u001b[0;36mzmq.backend.cython.checkrc._check_rc (zmq/backend/cython/socket.c:9621)\u001b[0;34m()\u001b[0m\n",
      "\u001b[0;31mKeyboardInterrupt\u001b[0m: ",
      "\nDuring handling of the above exception, another exception occurred:\n",
      "\u001b[0;31mKeyboardInterrupt\u001b[0m                         Traceback (most recent call last)",
      "\u001b[0;32m<ipython-input-2-d38e5c87c5d1>\u001b[0m in \u001b[0;36m<module>\u001b[0;34m()\u001b[0m\n\u001b[1;32m     26\u001b[0m         \u001b[0mprint\u001b[0m\u001b[0;34m(\u001b[0m\u001b[0;34m\"-----------------------------\"\u001b[0m\u001b[0;34m)\u001b[0m\u001b[0;34m\u001b[0m\u001b[0m\n\u001b[1;32m     27\u001b[0m \u001b[0;34m\u001b[0m\u001b[0m\n\u001b[0;32m---> 28\u001b[0;31m \u001b[0mname\u001b[0m\u001b[0;34m=\u001b[0m\u001b[0minput\u001b[0m\u001b[0;34m(\u001b[0m\u001b[0;34m\"Account Holder Name  : \"\u001b[0m\u001b[0;34m)\u001b[0m\u001b[0;34m\u001b[0m\u001b[0m\n\u001b[0m\u001b[1;32m     29\u001b[0m \u001b[0mnm\u001b[0m\u001b[0;34m=\u001b[0m\u001b[0mint\u001b[0m\u001b[0;34m(\u001b[0m\u001b[0minput\u001b[0m\u001b[0;34m(\u001b[0m\u001b[0;34m\"Account Number  : \"\u001b[0m\u001b[0;34m)\u001b[0m\u001b[0;34m)\u001b[0m\u001b[0;34m\u001b[0m\u001b[0m\n\u001b[1;32m     30\u001b[0m \u001b[0mt\u001b[0m\u001b[0;34m=\u001b[0m\u001b[0minput\u001b[0m\u001b[0;34m(\u001b[0m\u001b[0;34m\"Account Type  : \"\u001b[0m\u001b[0;34m)\u001b[0m\u001b[0;34m\u001b[0m\u001b[0m\n",
      "\u001b[0;32m~/anaconda3/lib/python3.6/site-packages/ipykernel/kernelbase.py\u001b[0m in \u001b[0;36mraw_input\u001b[0;34m(self, prompt)\u001b[0m\n\u001b[1;32m    703\u001b[0m             \u001b[0mself\u001b[0m\u001b[0;34m.\u001b[0m\u001b[0m_parent_ident\u001b[0m\u001b[0;34m,\u001b[0m\u001b[0;34m\u001b[0m\u001b[0m\n\u001b[1;32m    704\u001b[0m             \u001b[0mself\u001b[0m\u001b[0;34m.\u001b[0m\u001b[0m_parent_header\u001b[0m\u001b[0;34m,\u001b[0m\u001b[0;34m\u001b[0m\u001b[0m\n\u001b[0;32m--> 705\u001b[0;31m             \u001b[0mpassword\u001b[0m\u001b[0;34m=\u001b[0m\u001b[0;32mFalse\u001b[0m\u001b[0;34m,\u001b[0m\u001b[0;34m\u001b[0m\u001b[0m\n\u001b[0m\u001b[1;32m    706\u001b[0m         )\n\u001b[1;32m    707\u001b[0m \u001b[0;34m\u001b[0m\u001b[0m\n",
      "\u001b[0;32m~/anaconda3/lib/python3.6/site-packages/ipykernel/kernelbase.py\u001b[0m in \u001b[0;36m_input_request\u001b[0;34m(self, prompt, ident, parent, password)\u001b[0m\n\u001b[1;32m    733\u001b[0m             \u001b[0;32mexcept\u001b[0m \u001b[0mKeyboardInterrupt\u001b[0m\u001b[0;34m:\u001b[0m\u001b[0;34m\u001b[0m\u001b[0m\n\u001b[1;32m    734\u001b[0m                 \u001b[0;31m# re-raise KeyboardInterrupt, to truncate traceback\u001b[0m\u001b[0;34m\u001b[0m\u001b[0;34m\u001b[0m\u001b[0m\n\u001b[0;32m--> 735\u001b[0;31m                 \u001b[0;32mraise\u001b[0m \u001b[0mKeyboardInterrupt\u001b[0m\u001b[0;34m\u001b[0m\u001b[0m\n\u001b[0m\u001b[1;32m    736\u001b[0m             \u001b[0;32melse\u001b[0m\u001b[0;34m:\u001b[0m\u001b[0;34m\u001b[0m\u001b[0m\n\u001b[1;32m    737\u001b[0m                 \u001b[0;32mbreak\u001b[0m\u001b[0;34m\u001b[0m\u001b[0m\n",
      "\u001b[0;31mKeyboardInterrupt\u001b[0m: "
     ]
    }
   ],
   "source": [
    "#bank account\n",
    "class bank:\n",
    "    def __init__(self,nm,a_num,a_type,bal):\n",
    "        self.name=nm\n",
    "        self.acc_nm=a_num\n",
    "        self.acc_type=a_type\n",
    "        self.bal=bal\n",
    "    def deposite(self,amt):\n",
    "        self.bal=self.bal+amt\n",
    "        print(\"Current balence  : \",self.bal)\n",
    "    def withdraw(self,amt):\n",
    "        if self.bal<amt:\n",
    "            print(\"Insuficiant balence\")\n",
    "            print(\"balence is : \",self.bal)\n",
    "        else:\n",
    "            self.bal=self.bal-amt\n",
    "            print(amt,\"is Debited\")\n",
    "            print(\"balence is : \",self.bal)\n",
    "    def acinfo(self):\n",
    "        print(\"-----------------------------\")\n",
    "        print(\"Account Holder Name  : \",self.name)\n",
    "        print(\"Account Number  : \",self.acc_nm)\n",
    "        print(\"Account Type  : \",self.acc_type)\n",
    "        print(\"Account Balence is  :\",self.bal)\n",
    "        print(\"-----------------------------\")\n",
    "            \n",
    "name=input(\"Account Holder Name  : \")\n",
    "nm=int(input(\"Account Number  : \"))\n",
    "t=input(\"Account Type  : \")\n",
    "bal=(int(input(\"Enter the initial ammount  : \")))\n",
    "f=bank(name,nm,t,bal)\n",
    "while(1):\n",
    "    print(\"\\n1.Deposite\\n2.Withdraw\\n3.Account info\\n4.Exit...\")\n",
    "    print(\"------------------------------\")\n",
    "    opt=int(input(\"Enter ypur option:\"))\n",
    "    if opt==1:\n",
    "        amt=int(input(\"Enter The Amount to Deposite  : \"))\n",
    "        f.deposite(amt)\n",
    "    elif opt==2:\n",
    "        amt1=int(input(\"Enter The Amount to Withdraw  : \"))\n",
    "        f.withdraw(amt1)\n",
    "    elif opt==3:\n",
    "        f.acinfo()\n",
    "    elif opt==4:\n",
    "        print(\"Exiting.....\")\n",
    "        break\n",
    "    else:\n",
    "        print(\"invalid option....\")\n",
    "        break"
   ]
  },
  {
   "cell_type": "code",
   "execution_count": 2,
   "metadata": {},
   "outputs": [
    {
     "name": "stdout",
     "output_type": "stream",
     "text": [
      "Enter Publisher name  : shakespier\n",
      "Enter Book Name  : makbeth\n",
      "Enter Auther Name  : shakespier\n",
      "Enter Rate of Book  : 500\n",
      "Enter no.of pages  : 200\n",
      "----------------------------------------\n",
      "Publisher Name :  shakespier\n",
      "\n",
      "Name of Book :  makbeth\n",
      "Name of Auther :  shakespier\n",
      "\n",
      "Price of Book :  500\n",
      "No.of pages :  200\n"
     ]
    }
   ],
   "source": [
    "#book publisher,book,title and author\n",
    "\n",
    "class publisher:\n",
    "    def __init__(self,pubnm):\n",
    "        self.pnm=pubnm\n",
    "    def dis(self):\n",
    "        print(\"Publisher Name : \",self.pnm)\n",
    "class book(publisher):\n",
    "    def __init__(self,pubnm,booknm,auther):\n",
    "        self.bname=booknm\n",
    "        self.ath=auther\n",
    "        publisher.__init__(self,pubnm)\n",
    "    def disp(self):\n",
    "        print(\"\\nName of Book : \",self.bname)\n",
    "        print(\"Name of Auther : \",self.ath)\n",
    "class python(book):\n",
    "    def __init__(self,pn,tit,aut,price,n):\n",
    "        self.price=price\n",
    "        self.np=n\n",
    "        book.__init__(self,pn,tit,aut)\n",
    "    def display(self):\n",
    "        print(\"\\nPrice of Book : \",self.price)\n",
    "        print(\"No.of pages : \",self.np)\n",
    "            \n",
    "pn=input(\"Enter Publisher name  : \")\n",
    "bn=input(\"Enter Book Name  : \")   \n",
    "auth=input(\"Enter Auther Name  : \")\n",
    "r=input(\"Enter Rate of Book  : \")\n",
    "n=input(\"Enter no.of pages  : \")\n",
    "print(\"----------------------------------------\")\n",
    "f=python(pn,bn,auth,r,n)\n",
    "f.dis()\n",
    "f.disp()\n",
    "f.display()"
   ]
  },
  {
   "cell_type": "code",
   "execution_count": 3,
   "metadata": {},
   "outputs": [
    {
     "name": "stdout",
     "output_type": "stream",
     "text": [
      "Enter Employee name  : saranya\n",
      "Enter emp code  : 1234\n",
      "Enter emp experience  : 2 years\n",
      "Enter pay  : 20 lakh per year\n",
      "----------------------------\n",
      "Employee Name :  saranya\n",
      "Employee code :  1234\n",
      "Employee Experiance :  2 years\n",
      "Employee payment :  20 lakh per year\n"
     ]
    }
   ],
   "source": [
    "#create base class and child class\n",
    "class person:\n",
    "    def __init__(self,nam,cd):\n",
    "        self.name=nam\n",
    "        self.code=cd\n",
    "        \n",
    "class account(person):\n",
    "    def __init__(self,pay,name,code):\n",
    "        self.pay=pay\n",
    "        person.__init__(self,name,code)\n",
    "    def member_pay(self):\n",
    "        print(\"payment : \",self.pay)\n",
    "    \n",
    "class admin(person):\n",
    "    def __init__(self,exp,name,code):\n",
    "        self.exp=exp\n",
    "        person.__init__(self,name,code)\n",
    "        \n",
    "        \n",
    "        \n",
    "class employee(account,admin):\n",
    "    \n",
    "    def __init__(self,nm,cd,ex,pay):\n",
    "        admin.__init__(self,ex,nm,cd)\n",
    "        account.__init__(self,pay,nm,cd)\n",
    "        \n",
    "    def display(self):\n",
    "        print(\"Employee Name : \",self.name)\n",
    "        print(\"Employee code : \",self.code)\n",
    "        print(\"Employee Experiance : \",self.exp)\n",
    "        print(\"Employee payment : \",self.pay)\n",
    "        \n",
    "        \n",
    "nm=input(\"Enter Employee name  : \")\n",
    "cd=input(\"Enter emp code  : \")\n",
    "ex=input(\"Enter emp experience  : \")\n",
    "pay=input(\"Enter pay  : \")\n",
    "print(\"----------------------------\")\n",
    "f=employee(nm,cd,ex,pay)\n",
    "f.display()"
   ]
  },
  {
   "cell_type": "code",
   "execution_count": 3,
   "metadata": {},
   "outputs": [
    {
     "name": "stdout",
     "output_type": "stream",
     "text": [
      "hour1 :5\n",
      "min1 :55\n",
      "sec1 :50\n",
      "-----------------\n",
      "hour2 :4\n",
      "min2 :30\n",
      "sec2 :10\n",
      "-----------------\n",
      "time now\n",
      "10 hour\t 26 min\t 0 seconds\n"
     ]
    }
   ],
   "source": [
    "#operator overloading \"+\" adding 2 times\n",
    "class Time():\n",
    "    def __init__(self,hour,minute,seconds):\n",
    "        self.__h=hour\n",
    "        self.__m=minute\n",
    "        self.__s=seconds\n",
    "    def __add__(self,time):\n",
    "        sec=self.__s+time.__s\n",
    "        mi=self.__m+time.__m\n",
    "        hr=self.__h+time.__h\n",
    "        if sec>=60:\n",
    "            mi+=1\n",
    "            sec-=60\n",
    "        if mi>=60:\n",
    "            hr+=1\n",
    "            mi-=60\n",
    "        \n",
    "        print(\"time now\")\n",
    "        print(hr,\"hour\\t\",mi,\"min\\t\",sec,\"seconds\")\n",
    "h=int(input(\"hour1 :\"))\n",
    "m=int(input(\"min1 :\"))\n",
    "s=int(input(\"sec1 :\"))\n",
    "print(\"-----------------\")\n",
    "\n",
    "h1=int(input(\"hour2 :\"))\n",
    "m1=int(input(\"min2 :\"))\n",
    "s1=int(input(\"sec2 :\"))\n",
    "print(\"-----------------\")\n",
    "f=Time(h,m,s)\n",
    "f1=Time(h1,m1,s1) \n",
    "f+f1"
   ]
  },
  {
   "cell_type": "code",
   "execution_count": 6,
   "metadata": {},
   "outputs": [
    {
     "name": "stdout",
     "output_type": "stream",
     "text": [
      "Enter length of 1st rectangle  : 3\n",
      "Enter breadth of 1st rectangle  : 4\n",
      "Enter length of 2nd rectangle  : 5\n",
      "Enter breadth of 2nd rectangle  : 6\n",
      "-----------------------------------------\n",
      "2nd area is greater\n",
      "difference :  18\n"
     ]
    }
   ],
   "source": [
    "#operator overloading\"<\"\n",
    "class rectangle:\n",
    "    def __init__(self,l,b):\n",
    "        self.ar=l*b\n",
    "    def __lt__(self,another):\n",
    "        if self.ar<another.ar:\n",
    "            print(\"2nd area is greater\")\n",
    "            print(\"difference : \",another.ar-self.ar)\n",
    "        else:\n",
    "            print(\"1st area is greater\")\n",
    "            print(\"difference : \",self.ar-another.ar)\n",
    "            \n",
    "\n",
    "l=int(input(\"Enter length of 1st rectangle  : \"))\n",
    "b=int(input(\"Enter breadth of 1st rectangle  : \"))\n",
    "l1=int(input(\"Enter length of 2nd rectangle  : \"))\n",
    "b1=int(input(\"Enter breadth of 2nd rectangle  : \"))\n",
    "print(\"-----------------------------------------\")\n",
    "r=rectangle(l,b)\n",
    "r1=rectangle(l1,b1)\n",
    "r<r1"
   ]
  },
  {
   "cell_type": "code",
   "execution_count": null,
   "metadata": {
    "collapsed": true
   },
   "outputs": [],
   "source": []
  }
 ],
 "metadata": {
  "kernelspec": {
   "display_name": "Python 3",
   "language": "python",
   "name": "python3"
  },
  "language_info": {
   "codemirror_mode": {
    "name": "ipython",
    "version": 3
   },
   "file_extension": ".py",
   "mimetype": "text/x-python",
   "name": "python",
   "nbconvert_exporter": "python",
   "pygments_lexer": "ipython3",
   "version": "3.6.3"
  }
 },
 "nbformat": 4,
 "nbformat_minor": 2
}
