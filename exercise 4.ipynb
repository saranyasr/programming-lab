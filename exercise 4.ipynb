{
 "cells": [
  {
   "cell_type": "code",
   "execution_count": 1,
   "metadata": {},
   "outputs": [
    {
     "name": "stdout",
     "output_type": "stream",
     "text": [
      "enter a string:saranya\n",
      "the string is: aaranys\n"
     ]
    }
   ],
   "source": [
    "#change given string in to new string\n",
    "a=(input(\"enter a string:\"))\n",
    "x=a[-1]\n",
    "y=a[1:-1]\n",
    "z=a[0]\n",
    "s=x+y+z\n",
    "print(\"the string is:\",s)"
   ]
  },
  {
   "cell_type": "code",
   "execution_count": 3,
   "metadata": {},
   "outputs": [
    {
     "name": "stdout",
     "output_type": "stream",
     "text": [
      "enter a string:python\n",
      "the new string is: pyon\n"
     ]
    }
   ],
   "source": [
    "#first 2 and last 2 elements of a string\n",
    "string=str(input(\"enter a string:\"))\n",
    "s1=string[0:2]\n",
    "s2=string[-2:]\n",
    "s3=s1+s2\n",
    "print(\"the new string is:\",s3)"
   ]
  },
  {
   "cell_type": "code",
   "execution_count": 8,
   "metadata": {},
   "outputs": [
    {
     "name": "stdout",
     "output_type": "stream",
     "text": [
      "enter string 1:hello\n",
      "enter string 2:world\n",
      "the new string is: wollo herld\n"
     ]
    }
   ],
   "source": [
    "#get a single string from 2 given string separated by a space and swap the 1st 2 characters of each string\n",
    "str1=str(input(\"enter string 1:\"))\n",
    "str2=str(input(\"enter string 2:\"))\n",
    "s=str2[0:2]+str1[2:]+' '+str1[0:2]+str2[2:]\n",
    "print(\"the new string is:\",s)"
   ]
  },
  {
   "cell_type": "code",
   "execution_count": 1,
   "metadata": {},
   "outputs": [
    {
     "name": "stdout",
     "output_type": "stream",
     "text": [
      "enter a string:saranyasss\n",
      "the new strin is: saranya$$$\n"
     ]
    }
   ],
   "source": [
    "#strings all occurence of its 1st charecter have been changed ibto $ except the first charecter itself\n",
    "string1=str(input(\"enter a string:\"))\n",
    "s1=string1[0]\n",
    "s2=string1.replace(s1,'$')\n",
    "s3=s1+s2[1:]\n",
    "print(\"the new strin is:\",s3)"
   ]
  },
  {
   "cell_type": "code",
   "execution_count": null,
   "metadata": {
    "collapsed": true
   },
   "outputs": [],
   "source": []
  }
 ],
 "metadata": {
  "kernelspec": {
   "display_name": "Python 3",
   "language": "python",
   "name": "python3"
  },
  "language_info": {
   "codemirror_mode": {
    "name": "ipython",
    "version": 3
   },
   "file_extension": ".py",
   "mimetype": "text/x-python",
   "name": "python",
   "nbconvert_exporter": "python",
   "pygments_lexer": "ipython3",
   "version": "3.6.3"
  }
 },
 "nbformat": 4,
 "nbformat_minor": 2
}
