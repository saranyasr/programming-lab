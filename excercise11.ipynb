{
 "cells": [
  {
   "cell_type": "code",
   "execution_count": 1,
   "metadata": {},
   "outputs": [
    {
     "name": "stdout",
     "output_type": "stream",
     "text": [
      "enter the source file to be copied:myfile.txt\n",
      "enter the destination file name:newfile.txt\n",
      "file copied\n"
     ]
    }
   ],
   "source": [
    "#program to copy a text file into another file\n",
    "\n",
    "file1=input(\"enter the source file to be copied:\")\n",
    "file2=input(\"enter the destination file name:\")\n",
    "fr=open(file1,\"r\")\n",
    "fw=open(file2,\"w\")\n",
    "for line in fr.readlines():\n",
    "    fw.write(line)\n",
    "fr.close()\n",
    "fw.close()\n",
    "print(\"file copied\")"
   ]
  },
  {
   "cell_type": "code",
   "execution_count": 4,
   "metadata": {},
   "outputs": [
    {
     "name": "stdout",
     "output_type": "stream",
     "text": [
      "enter the file name to append:newfile.txt\n",
      "enter the name to be append:myfile.txt\n",
      "file appended...\n"
     ]
    }
   ],
   "source": [
    "#append a file with another file\n",
    "file1=input(\"enter the file name to append:\")\n",
    "file2=input(\"enter the name to be append:\")\n",
    "f2=open(file2,\"a+\")\n",
    "f1=open(file1,\"r\")\n",
    "l=f1.readlines()\n",
    "f2.writelines(l)\n",
    "f1.close()\n",
    "f2.close()\n",
    "print(\"file appended...\")"
   ]
  },
  {
   "cell_type": "code",
   "execution_count": 6,
   "metadata": {},
   "outputs": [
    {
     "name": "stdout",
     "output_type": "stream",
     "text": [
      "enter the source file name:myfile.txt\n",
      "the number of lines: 7\n"
     ]
    }
   ],
   "source": [
    "#number of lines in a file\n",
    "c=0\n",
    "file1=input(\"enter the source file name:\")\n",
    "f1=open(file1,\"r\")\n",
    "for line in f1.readlines():\n",
    "        c=c+1\n",
    "print(\"the number of lines:\",c)"
   ]
  },
  {
   "cell_type": "code",
   "execution_count": 7,
   "metadata": {},
   "outputs": [
    {
     "name": "stdout",
     "output_type": "stream",
     "text": [
      "enter the file name :myfile.txt\n",
      "enter the destination:newfile.txt\n",
      "odd lines copied...\n"
     ]
    }
   ],
   "source": [
    "#PROGRAM TO COPY ONLY ODD LINES\n",
    "file1=input(\"enter the file name :\")\n",
    "file2=input(\"enter the destination:\")\n",
    "f2=open(file2,\"w\")\n",
    "f1=open(file1,\"r\")\n",
    "i=0\n",
    "for line in f1.readlines():\n",
    "    i=i+1\n",
    "    if i%2==0:\n",
    "        continue\n",
    "    f2.write(line)\n",
    "f1.close()\n",
    "f2.close()\n",
    "print(\"odd lines copied...\")"
   ]
  },
  {
   "cell_type": "code",
   "execution_count": 5,
   "metadata": {},
   "outputs": [
    {
     "name": "stdout",
     "output_type": "stream",
     "text": [
      "enter id:1\n",
      "enter name:saranya.k\n",
      "enter dob:18/09/2000\n",
      "enter Salary:20000\n",
      "enter id:2\n",
      "enter name:scissna\n",
      "enter dob:18/5/2000\n",
      "enter Salary:10000\n",
      "enter id:3\n",
      "enter name:Hasna\n",
      "enter dob:13/4/1999\n",
      "enter Salary:15000\n",
      "['empid', 'empname', 'DOB', 'Salary']\n",
      "['1', 'saranya.k', '18/09/2000', '20000']\n",
      "['2', 'scissna', '18/5/2000', '10000']\n",
      "['3', 'Hasna', '13/4/1999', '15000']\n"
     ]
    }
   ],
   "source": [
    "#dictionary to csv\n",
    "import csv\n",
    "with open(\"csv1.csv\",\"w\") as f:\n",
    "    fnames=['empid','empname','DOB','Salary']\n",
    "    writer=csv.DictWriter(f,fieldnames=fnames)\n",
    "    writer.writeheader()\n",
    "    for i in range(3):\n",
    "        writer.writerow({\"empid\":input(\"enter id:\"),\"empname\":input(\"enter name:\"),\"DOB\":input(\"enter dob:\"),\"Salary\":input(\"enter Salary:\")})\n",
    "    \n",
    "with open('csv1.csv', 'r') as file:\n",
    "    reader = csv.reader(file)\n",
    "    for row in reader:\n",
    "        print(row)"
   ]
  },
  {
   "cell_type": "code",
   "execution_count": 6,
   "metadata": {},
   "outputs": [
    {
     "name": "stdout",
     "output_type": "stream",
     "text": [
      "{'empid': '1', 'empname': 'saranya.k', 'DOB': '18/09/2000', 'Salary': '20000'}\n",
      "{'empid': '2', 'empname': 'scissna', 'DOB': '18/5/2000', 'Salary': '10000'}\n",
      "{'empid': '3', 'empname': 'Hasna', 'DOB': '13/4/1999', 'Salary': '15000'}\n"
     ]
    }
   ],
   "source": [
    "#program to read each row &print lists in string\n",
    "import csv\n",
    "with open(\"csv1.csv\",\"r\") as f:\n",
    "    reader=csv.DictReader(f)\n",
    "    for row in reader:\n",
    "        print(dict(row))"
   ]
  },
  {
   "cell_type": "code",
   "execution_count": 7,
   "metadata": {},
   "outputs": [
    {
     "name": "stdout",
     "output_type": "stream",
     "text": [
      "Enter csv file name : newfile.csv\n",
      "Enter the no.of department : 2\n",
      "------------------------\n",
      "Enter the details of 1th department\n",
      "\n",
      "enter dptid:100\n",
      "enter department name:mca\n",
      "enter no.of employees:7\n",
      "enter Location:kmct \n",
      "------------------------\n",
      "Enter the details of 2th department\n",
      "\n",
      "enter dptid:111\n",
      "enter department name:mba\n",
      "enter no.of employees:5\n",
      "enter Location:kmct\n",
      "---------------------\n",
      "Department Id and Department Name are given below \n",
      "100 mca\n",
      "111 mba\n"
     ]
    }
   ],
   "source": [
    "#csv\n",
    "import csv\n",
    "file=input(\"Enter csv file name : \")\n",
    "with open(file,\"w\",newline=\"\") as f:\n",
    "    fnames=['dptid','dptname','Totalemployees','Location']\n",
    "    writer=csv.DictWriter(f,fieldnames=fnames)\n",
    "    writer.writeheader()\n",
    "    n=int(input(\"Enter the no.of department : \"))\n",
    "    for i in range(n):\n",
    "        print(\"------------------------\")\n",
    "        print(\"Enter the details of \"+str(i+1)+\"th department\\n\")\n",
    "            \n",
    "        writer.writerow({\"dptid\":input(\"enter dptid:\"),\"dptname\":input(\"enter department name:\"),\"Totalemployees\":input(\"enter no.of employees:\"),\"Location\":input(\"enter Location:\")})\n",
    "print(\"---------------------\")        \n",
    "with open(file,\"r\") as f:\n",
    "    reader=csv.DictReader(f)\n",
    "    print(\"Department Id and Department Name are given below \")\n",
    "    for i in reader:\n",
    "        print(i[\"dptid\"],i[\"dptname\"])"
   ]
  },
  {
   "cell_type": "code",
   "execution_count": null,
   "metadata": {
    "collapsed": true
   },
   "outputs": [],
   "source": []
  }
 ],
 "metadata": {
  "kernelspec": {
   "display_name": "Python 3",
   "language": "python",
   "name": "python3"
  },
  "language_info": {
   "codemirror_mode": {
    "name": "ipython",
    "version": 3
   },
   "file_extension": ".py",
   "mimetype": "text/x-python",
   "name": "python",
   "nbconvert_exporter": "python",
   "pygments_lexer": "ipython3",
   "version": "3.6.3"
  }
 },
 "nbformat": 4,
 "nbformat_minor": 2
}
