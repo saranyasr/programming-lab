{
 "cells": [
  {
   "cell_type": "code",
   "execution_count": 1,
   "metadata": {},
   "outputs": [
    {
     "name": "stdout",
     "output_type": "stream",
     "text": [
      "enter the source file to be copied:myfile.txt\n",
      "enter the destination file name:newfile.txt\n",
      "file copied\n"
     ]
    }
   ],
   "source": [
    "#program to copy a text file into another file\n",
    "\n",
    "file1=input(\"enter the source file to be copied:\")\n",
    "file2=input(\"enter the destination file name:\")\n",
    "fr=open(file1,\"r\")\n",
    "fw=open(file2,\"w\")\n",
    "for line in fr.readlines():\n",
    "    fw.write(line)\n",
    "fr.close()\n",
    "fw.close()\n",
    "print(\"file copied\")"
   ]
  },
  {
   "cell_type": "code",
   "execution_count": 4,
   "metadata": {},
   "outputs": [
    {
     "name": "stdout",
     "output_type": "stream",
     "text": [
      "enter the file name to append:newfile.txt\n",
      "enter the name to be append:myfile.txt\n",
      "file appended...\n"
     ]
    }
   ],
   "source": [
    "#append a file with another file\n",
    "file1=input(\"enter the file name to append:\")\n",
    "file2=input(\"enter the name to be append:\")\n",
    "f2=open(file2,\"a+\")\n",
    "f1=open(file1,\"r\")\n",
    "l=f1.readlines()\n",
    "f2.writelines(l)\n",
    "f1.close()\n",
    "f2.close()\n",
    "print(\"file appended...\")"
   ]
  },
  {
   "cell_type": "code",
   "execution_count": 6,
   "metadata": {},
   "outputs": [
    {
     "name": "stdout",
     "output_type": "stream",
     "text": [
      "enter the source file name:myfile.txt\n",
      "the number of lines: 7\n"
     ]
    }
   ],
   "source": [
    "#number of lines in a file\n",
    "c=0\n",
    "file1=input(\"enter the source file name:\")\n",
    "f1=open(file1,\"r\")\n",
    "for line in f1.readlines():\n",
    "        c=c+1\n",
    "print(\"the number of lines:\",c)"
   ]
  },
  {
   "cell_type": "code",
   "execution_count": 7,
   "metadata": {},
   "outputs": [
    {
     "name": "stdout",
     "output_type": "stream",
     "text": [
      "enter the file name :myfile.txt\n",
      "enter the destination:newfile.txt\n",
      "odd lines copied...\n"
     ]
    }
   ],
   "source": [
    "#PROGRAM TO COPY ONLY ODD LINES\n",
    "file1=input(\"enter the file name :\")\n",
    "file2=input(\"enter the destination:\")\n",
    "f2=open(file2,\"w\")\n",
    "f1=open(file1,\"r\")\n",
    "i=0\n",
    "for line in f1.readlines():\n",
    "    i=i+1\n",
    "    if i%2==0:\n",
    "        continue\n",
    "    f2.write(line)\n",
    "f1.close()\n",
    "f2.close()\n",
    "print(\"odd lines copied...\")"
   ]
  },
  {
   "cell_type": "code",
   "execution_count": 1,
   "metadata": {},
   "outputs": [
    {
     "name": "stdout",
     "output_type": "stream",
     "text": [
      "enter the source csv file name:saranya.csv\n",
      "enter no.of persons1\n"
     ]
    },
    {
     "ename": "AttributeError",
     "evalue": "module 'csv' has no attribute 'dictwriter'",
     "output_type": "error",
     "traceback": [
      "\u001b[0;31m---------------------------------------------------------------------------\u001b[0m",
      "\u001b[0;31mAttributeError\u001b[0m                            Traceback (most recent call last)",
      "\u001b[0;32m<ipython-input-1-6bd8dfb3f1a7>\u001b[0m in \u001b[0;36m<module>\u001b[0;34m()\u001b[0m\n\u001b[1;32m      6\u001b[0m     \u001b[0mempdata\u001b[0m\u001b[0;34m=\u001b[0m\u001b[0;34m[\u001b[0m\u001b[0;34m\"empid\"\u001b[0m\u001b[0;34m,\u001b[0m\u001b[0;34m\"empname\"\u001b[0m\u001b[0;34m,\u001b[0m\u001b[0;34m\"dptmnt\"\u001b[0m\u001b[0;34m,\u001b[0m\u001b[0;34m\"dob\"\u001b[0m\u001b[0;34m,\u001b[0m\u001b[0;34m\"salary\"\u001b[0m\u001b[0;34m]\u001b[0m\u001b[0;34m\u001b[0m\u001b[0m\n\u001b[1;32m      7\u001b[0m     \u001b[0ml\u001b[0m\u001b[0;34m=\u001b[0m\u001b[0;34m[\u001b[0m\u001b[0;34m]\u001b[0m\u001b[0;34m\u001b[0m\u001b[0m\n\u001b[0;32m----> 8\u001b[0;31m     \u001b[0mwriter\u001b[0m\u001b[0;34m=\u001b[0m\u001b[0mcsv\u001b[0m\u001b[0;34m.\u001b[0m\u001b[0mdictwriter\u001b[0m\u001b[0;34m(\u001b[0m\u001b[0mf1\u001b[0m\u001b[0;34m,\u001b[0m\u001b[0mfieldnames\u001b[0m\u001b[0;34m=\u001b[0m\u001b[0mempdata\u001b[0m\u001b[0;34m)\u001b[0m\u001b[0;34m\u001b[0m\u001b[0m\n\u001b[0m\u001b[1;32m      9\u001b[0m     \u001b[0mwriter\u001b[0m\u001b[0;34m.\u001b[0m\u001b[0mwriteheader\u001b[0m\u001b[0;34m(\u001b[0m\u001b[0;34m)\u001b[0m\u001b[0;34m\u001b[0m\u001b[0m\n\u001b[1;32m     10\u001b[0m     \u001b[0;32mfor\u001b[0m \u001b[0mi\u001b[0m \u001b[0;32min\u001b[0m \u001b[0mrange\u001b[0m\u001b[0;34m(\u001b[0m\u001b[0mn\u001b[0m\u001b[0;34m)\u001b[0m\u001b[0;34m:\u001b[0m\u001b[0;34m\u001b[0m\u001b[0m\n",
      "\u001b[0;31mAttributeError\u001b[0m: module 'csv' has no attribute 'dictwriter'"
     ]
    }
   ],
   "source": [
    "#dictionary to csv\n",
    "import csv\n",
    "file1=input(\"enter the source csv file name:\")\n",
    "n=input(\"enter no.of persons\")\n",
    "with open(file1,\"a+\",newline='')as f1:\n",
    "    empdata=[\"empid\",\"empname\",\"dptmnt\",\"dob\",\"salary\"]\n",
    "    l=[]\n",
    "    writer=csv.dictwriter(f1,fieldnames=empdata)\n",
    "    writer.writeheader()\n",
    "    for i in range(n):\n",
    "        l=list(input(\"enter some coma separated empid,empname,dptmnt,dob,salary\".split(\",\")))\n",
    "        writer.writerow({'empid':l[0],'empname':l[1],'dptmnt':l[2],'dob':l[3],'salary':l[4]})\n",
    "        l.clear()\n",
    "print(\"the csv file data is\")\n",
    "with open(file1,\"r\",)as f2:\n",
    "    rdr=csv.DictReader(f2)\n",
    "    for item in rdr:\n",
    "        print(dict(item))\n"
   ]
  },
  {
   "cell_type": "code",
   "execution_count": null,
   "metadata": {
    "collapsed": true
   },
   "outputs": [],
   "source": []
  }
 ],
 "metadata": {
  "kernelspec": {
   "display_name": "Python 3",
   "language": "python",
   "name": "python3"
  },
  "language_info": {
   "codemirror_mode": {
    "name": "ipython",
    "version": 3
   },
   "file_extension": ".py",
   "mimetype": "text/x-python",
   "name": "python",
   "nbconvert_exporter": "python",
   "pygments_lexer": "ipython3",
   "version": "3.6.3"
  }
 },
 "nbformat": 4,
 "nbformat_minor": 2
}
