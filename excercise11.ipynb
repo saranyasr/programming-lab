{
 "cells": [
  {
   "cell_type": "code",
   "execution_count": 1,
   "metadata": {},
   "outputs": [
    {
     "name": "stdout",
     "output_type": "stream",
     "text": [
      "enter the source file to be copied:myfile.txt\n",
      "enter the destination file name:newfile.txt\n",
      "file copied\n"
     ]
    }
   ],
   "source": [
    "#program to copy a text file into another file\n",
    "\n",
    "file1=input(\"enter the source file to be copied:\")\n",
    "file2=input(\"enter the destination file name:\")\n",
    "fr=open(file1,\"r\")\n",
    "fw=open(file2,\"w\")\n",
    "for line in fr.readlines():\n",
    "    fw.write(line)\n",
    "fr.close()\n",
    "fw.close()\n",
    "print(\"file copied\")"
   ]
  },
  {
   "cell_type": "code",
   "execution_count": 4,
   "metadata": {},
   "outputs": [
    {
     "name": "stdout",
     "output_type": "stream",
     "text": [
      "enter the file name to append:newfile.txt\n",
      "enter the name to be append:myfile.txt\n",
      "file appended...\n"
     ]
    }
   ],
   "source": [
    "#append a file with another file\n",
    "file1=input(\"enter the file name to append:\")\n",
    "file2=input(\"enter the name to be append:\")\n",
    "f2=open(file2,\"a+\")\n",
    "f1=open(file1,\"r\")\n",
    "l=f1.readlines()\n",
    "f2.writelines(l)\n",
    "f1.close()\n",
    "f2.close()\n",
    "print(\"file appended...\")"
   ]
  },
  {
   "cell_type": "code",
   "execution_count": 6,
   "metadata": {},
   "outputs": [
    {
     "name": "stdout",
     "output_type": "stream",
     "text": [
      "enter the source file name:myfile.txt\n",
      "the number of lines: 7\n"
     ]
    }
   ],
   "source": [
    "#number of lines in a file\n",
    "c=0\n",
    "file1=input(\"enter the source file name:\")\n",
    "f1=open(file1,\"r\")\n",
    "for line in f1.readlines():\n",
    "        c=c+1\n",
    "print(\"the number of lines:\",c)"
   ]
  },
  {
   "cell_type": "code",
   "execution_count": null,
   "metadata": {
    "collapsed": true
   },
   "outputs": [],
   "source": [
    "#"
   ]
  }
 ],
 "metadata": {
  "kernelspec": {
   "display_name": "Python 3",
   "language": "python",
   "name": "python3"
  }
 },
 "nbformat": 4,
 "nbformat_minor": 2
}
