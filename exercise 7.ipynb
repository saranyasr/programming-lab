{
 "cells": [
  {
   "cell_type": "code",
   "execution_count": 5,
   "metadata": {},
   "outputs": [
    {
     "name": "stdout",
     "output_type": "stream",
     "text": [
      "enter some coma separated intigers:1,2,3,-3\n",
      "the required list is: [1, 2, 3]\n"
     ]
    }
   ],
   "source": [
    "#program for positive list of numbers from a given list of intigers \n",
    "l=(map(int,input(\"enter some coma separated intigers:\").split(\",\")))\n",
    "n=[x for x in l if x>0]\n",
    "\n",
    "print(\"the required list is:\",n)"
   ]
  },
  {
   "cell_type": "code",
   "execution_count": 9,
   "metadata": {},
   "outputs": [
    {
     "name": "stdout",
     "output_type": "stream",
     "text": [
      "enter some coma sepatated first names:saranya,amrutha,shamiaa\n",
      "number of occurances of a in saranya is: 3\n",
      "number of occurances of a in amrutha is: 2\n",
      "number of occurances of a in shamiaa is: 3\n",
      "totel number of occurance of a in list is: 8\n"
     ]
    }
   ],
   "source": [
    "#no.of occurances of a in list of first names\n",
    "name=input(\"enter some coma sepatated first names:\")\n",
    "l=name.split(\",\")\n",
    "t=0\n",
    "for i in l:\n",
    "    print(\"number of occurances of a in\",i,\"is:\",i.count(\"a\"))\n",
    "    t=t+i.count(\"a\")\n",
    "print(\"total number of occurance of a in list is:\",t)\n"
   ]
  },
  {
   "cell_type": "code",
   "execution_count": 12,
   "metadata": {},
   "outputs": [
    {
     "name": "stdout",
     "output_type": "stream",
     "text": [
      "enter some coma separated intigers:1,11,111,1111\n",
      "the required list is: [1, 11, 'over', 'over']\n"
     ]
    }
   ],
   "source": [
    "#2exceeding 100 intigers to \"over\"\n",
    "l=list(map(int,input(\"enter some coma separated intigers:\").split(\",\")))\n",
    "for i in range(len(l)):\n",
    "    if l[i]>100:\n",
    "        l[i]=\"over\"\n",
    "print(\"the required list is:\",l)\n",
    "    \n",
    "\n"
   ]
  },
  {
   "cell_type": "code",
   "execution_count": 13,
   "metadata": {},
   "outputs": [
    {
     "name": "stdout",
     "output_type": "stream",
     "text": [
      "enter some coma separated intigers:-1,-2,-3,-4,2,4,5\n",
      "the required list of elements is: [-1, -3, 5]\n"
     ]
    }
   ],
   "source": [
    "#61separating odd intigers from list of intigers\n",
    "l=list(map(int,input(\"enter some coma separated intigers:\").split(\",\")))\n",
    "n=[x for x in l if x%2!=0]\n",
    "print(\"the required list of elements is:\",n)"
   ]
  },
  {
   "cell_type": "code",
   "execution_count": 4,
   "metadata": {},
   "outputs": [
    {
     "name": "stdout",
     "output_type": "stream",
     "text": [
      "enter any word:saru\n",
      "['s', 'a', 'r', 'u']\n",
      "the required list of ordinl values of charecters of entered word is: [115, 97, 114, 117]\n"
     ]
    }
   ],
   "source": [
    "#ordinal values of charecters of a word\n",
    "word=input(\"enter any word:\")\n",
    "l=list(word)\n",
    "print(l)\n",
    "o=[ord(x) for x in l]\n",
    "print(\"the required list of ordinl values of charecters of entered word is:\",o)"
   ]
  },
  {
   "cell_type": "code",
   "execution_count": 6,
   "metadata": {},
   "outputs": [
    {
     "name": "stdout",
     "output_type": "stream",
     "text": [
      "enter some coma separated list of intigers:2,3,4,5\n",
      "the result list of squares: [4, 9, 16, 25]\n"
     ]
    }
   ],
   "source": [
    "#square of n numbers\n",
    "l=list(map(int,input(\"enter some coma separated list of intigers:\").split(\",\")))\n",
    "rest=[x*x for x in l]\n",
    "print(\"the result list of squares:\",rest)"
   ]
  },
  {
   "cell_type": "code",
   "execution_count": 14,
   "metadata": {},
   "outputs": [
    {
     "name": "stdout",
     "output_type": "stream",
     "text": [
      "enter some coma separated intigers for list1:1,2,4,7\n",
      "enter some coma separated intigers for list2:7,5,4,2\n",
      "the both lists are same length and the length is: 4\n",
      "both of the lists are different sum of elements\n",
      "same members are : [2, 4, 7]\n"
     ]
    }
   ],
   "source": [
    "#list of intigers\n",
    "l1=list(map(int,input(\"enter some coma separated intigers for list1:\").split(\",\")))\n",
    "l2=list(map(int,input(\"enter some coma separated intigers for list2:\").split(\",\")))\n",
    "if len(l1)!=len(l2):\n",
    "    print(\"the both lists are different size\")\n",
    "else:\n",
    "    print(\"the both lists are same length and the length is:\",len(l1))\n",
    "if(sum(l1)==sum(l2)):\n",
    "    print(\"both of the lists are same sum and sum is:\",sum(l1))\n",
    "else:\n",
    "    print(\"both of the lists are different sum of elements\")\n",
    "k=[i for i in l1 if i in l2]\n",
    "if len(k)!=0:\n",
    "    print(\"same members are :\",k)\n",
    "else:\n",
    "    print(\"no values occure in list\")"
   ]
  },
  {
   "cell_type": "code",
   "execution_count": 1,
   "metadata": {},
   "outputs": [
    {
     "name": "stdout",
     "output_type": "stream",
     "text": [
      "enter the word:saru\n",
      "list of vovels in the word saru is: ['a', 'u']\n"
     ]
    }
   ],
   "source": [
    "#from the list of vowels selected from a given word\n",
    "word=input(\"enter the word:\")\n",
    "vowels=['a','e','1','o','u','A','E','I','O','U']\n",
    "list=[]\n",
    "for x in word:\n",
    "    if (x in vowels and x not in list):\n",
    "        list.append(x)\n",
    "print(\"list of vovels in the word\",word,\"is:\",list)"
   ]
  },
  {
   "cell_type": "code",
   "execution_count": 8,
   "metadata": {},
   "outputs": [
    {
     "name": "stdout",
     "output_type": "stream",
     "text": [
      "enter the value of elements of dictionary 1:2\n",
      "enter key:5\n",
      "enter the value33\n",
      "enter key:3\n",
      "enter the value56\n",
      "enter the value of elements of dictionary 2:2\n",
      "enter key:4\n",
      "enter the value5\n",
      "enter key:8\n",
      "enter the value\n",
      "the merged dictionary is: {'5': '33', '3': '56', '4': '5', '8': ''}\n"
     ]
    }
   ],
   "source": [
    "#TO MERGE 2 DICTIONARIES\n",
    "d1={}\n",
    "d2={}\n",
    "d3={}\n",
    "n1=int(input(\"enter the value of elements of dictionary 1:\"))\n",
    "for i in range(n1):\n",
    "    key=input(\"enter key:\")\n",
    "    value=input(\"enter the value\")\n",
    "    d1.update({key:value})\n",
    "\n",
    "n2=int(input(\"enter the value of elements of dictionary 2:\"))\n",
    "for i in range(n2):\n",
    "    key=input(\"enter key:\")\n",
    "    value=input(\"enter the value\")\n",
    "    d2.update({key:value})\n",
    "d3.update(d1)\n",
    "d3.update(d2)\n",
    "print(\"the merged dictionary is:\",d3)"
   ]
  },
  {
   "cell_type": "code",
   "execution_count": 4,
   "metadata": {},
   "outputs": [
    {
     "name": "stdout",
     "output_type": "stream",
     "text": [
      "enter a list of color with comma separeted :red,orange,violet\n",
      "enter a list of color with comma separeted :orange,red,green\n",
      "color with present in 1st list and only in first= {'violet'}\n"
     ]
    }
   ],
   "source": [
    "#colors in list1 not in list2\n",
    "c1=list(map(str,input(\"enter a list of color with comma separeted :\").split(\",\")))\n",
    "c2=list(map(str,input(\"enter a list of color with comma separeted :\").split(\",\")))\n",
    "a=set(c1+c2)\n",
    "[x for x in a if x in c1]\n",
    "c=set(a-set(c2))\n",
    "print(\"color with present in 1st list and only in first=\",c)"
   ]
  },
  {
   "cell_type": "code",
   "execution_count": null,
   "metadata": {
    "collapsed": true
   },
   "outputs": [],
   "source": []
  }
 ],
 "metadata": {
  "kernelspec": {
   "display_name": "Python 3",
   "language": "python",
   "name": "python3"
  },
  "language_info": {
   "codemirror_mode": {
    "name": "ipython",
    "version": 3
   },
   "file_extension": ".py",
   "mimetype": "text/x-python",
   "name": "python",
   "nbconvert_exporter": "python",
   "pygments_lexer": "ipython3",
   "version": "3.6.3"
  }
 },
 "nbformat": 4,
 "nbformat_minor": 2
}
