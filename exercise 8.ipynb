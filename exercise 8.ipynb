{
 "cells": [
  {
   "cell_type": "code",
   "execution_count": 1,
   "metadata": {},
   "outputs": [
    {
     "name": "stdout",
     "output_type": "stream",
     "text": [
      "enter 1st number:2\n",
      "enter 2nd number:3\n",
      "enter 3rd number:4\n",
      "the number are notequal and their sum= 9\n"
     ]
    }
   ],
   "source": [
    "#calculate sum of 3 given no,if the value are equal then return thrice their sum\n",
    "def sum(a,b,c):\n",
    "    if(a==b==c):\n",
    "        s=3*(a+b+c)\n",
    "        print(\"the number are equal and thrice their sum=\",s)\n",
    "    else:\n",
    "        s=a+b+c\n",
    "        print(\"the number are notequal and their sum=\",s)\n",
    "a=int(input(\"enter 1st number:\"))\n",
    "b=int(input(\"enter 2nd number:\"))\n",
    "c=int(input(\"enter 3rd number:\"))\n",
    "sum(a,b,c)\n"
   ]
  },
  {
   "cell_type": "code",
   "execution_count": 2,
   "metadata": {},
   "outputs": [
    {
     "name": "stdout",
     "output_type": "stream",
     "text": [
      "enter a number:111\n",
      "sum of digits= 3\n"
     ]
    }
   ],
   "source": [
    "#sum of digit of numbers\n",
    "def sum(n):\n",
    "    sum=0\n",
    "    while(n!=0):\n",
    "        sum=sum+int(n%10)\n",
    "        n=n/10\n",
    "    print(\"sum of digits=\",sum)\n",
    "num=int(input(\"enter a number:\"))\n",
    "sum(num)"
   ]
  },
  {
   "cell_type": "code",
   "execution_count": 16,
   "metadata": {},
   "outputs": [
    {
     "name": "stdout",
     "output_type": "stream",
     "text": [
      "enter a string:SaRaNyA\n",
      "upper case letter= 4\n",
      "lower case letter= 3\n"
     ]
    }
   ],
   "source": [
    "#calculate number of upper case and lower case letter of a string\n",
    "def str(s):\n",
    "    u=l=0\n",
    "    for i in s:\n",
    "        if i.isupper()==1:\n",
    "            u=u+1\n",
    "        else:\n",
    "            l=l+1\n",
    "    print(\"upper case letter=\",u)\n",
    "    print(\"lower case letter=\",l)\n",
    "string=input(\"enter a string:\")\n",
    "str(string)"
   ]
  },
  {
   "cell_type": "code",
   "execution_count": 23,
   "metadata": {},
   "outputs": [
    {
     "name": "stdout",
     "output_type": "stream",
     "text": [
      "enter a number:9\n",
      "9 is not a prime number\n"
     ]
    }
   ],
   "source": [
    "#function to check wheather prime or not\n",
    "def prime(n):\n",
    "    if n>1:\n",
    "        for i in range(2,int(n/2)+1):\n",
    "            if(n%i)==0:\n",
    "                print(n,\"is not a prime number\")\n",
    "                break\n",
    "        else:\n",
    "            print(n,\"is a prime number\")\n",
    "    else:\n",
    "        print(n,\"is a prime number\")\n",
    " \n",
    "num=(int(input(\"enter a number:\")))\n",
    "prime(num)"
   ]
  },
  {
   "cell_type": "code",
   "execution_count": 2,
   "metadata": {},
   "outputs": [
    {
     "name": "stdout",
     "output_type": "stream",
     "text": [
      "enter the current year:2021\n",
      "enter the final year:2025\n",
      "leap years from 2021 to 2025 are:\n",
      "2024\n"
     ]
    }
   ],
   "source": [
    "#display future leap year from current year to final year entered by user\n",
    "def leap(current,final):\n",
    "    print(\"leap years from\",current,\"to\",final,\"are:\")\n",
    "    for y in range(current,final+1):\n",
    "        if y%4==0 and (y%100!=0 or y%400==0):\n",
    "            print(y)\n",
    "current=int(input(\"enter the current year:\"))\n",
    "final=int(input(\"enter the final year:\"))\n",
    "leap(current,final)"
   ]
  },
  {
   "cell_type": "code",
   "execution_count": 5,
   "metadata": {},
   "outputs": [
    {
     "name": "stdout",
     "output_type": "stream",
     "text": [
      "enter the name:saranya\n",
      "enter the salary:2000\n",
      "the name of employee is saranya and salary is  2000\n"
     ]
    }
   ],
   "source": [
    "#employee name salary\n",
    "def showEmployee(name,salary=8000):\n",
    "    print(\"the name of employee is\",name,\"and salary is \",salary)\n",
    "name=input(\"enter the name:\")\n",
    "salary=int(input(\"enter the salary:\"))\n",
    "if salary>0:\n",
    "    showEmployee(name,salary)\n",
    "else:\n",
    "    showEmployee(name)"
   ]
  },
  {
   "cell_type": "code",
   "execution_count": 8,
   "metadata": {},
   "outputs": [
    {
     "name": "stdout",
     "output_type": "stream",
     "text": [
      "enter the number of values:4\n",
      "enter the value:5\n",
      "enter the value:6\n",
      "enter the value:3\n",
      "enter the value:7\n",
      "minimum of entered items: 3\n"
     ]
    }
   ],
   "source": [
    "#min of argument values\n",
    "l=[]\n",
    "def minvalue(*tup):\n",
    "    print(\"minimum of entered items:\",min(tup))\n",
    "n=int(input(\"enter the number of values:\"))\n",
    "i=0\n",
    "for i in range(n):\n",
    "    k=int(input(\"enter the value:\"))\n",
    "    l.append(k)\n",
    "x=tuple(l)\n",
    "minvalue(*x)"
   ]
  },
  {
   "cell_type": "code",
   "execution_count": null,
   "metadata": {},
   "outputs": [
    {
     "name": "stdout",
     "output_type": "stream",
     "text": [
      "enter the no.of persons:3\n",
      "details for person: 1\n",
      "enter the no.of informations you wish to provide:2\n",
      "enter any type of info:name\n",
      "enter its value:saranya\n",
      "enter any type of info:age\n",
      "enter its value:21\n",
      "{'name': 'saranya', 'age': '21'}\n",
      "\n",
      "\n",
      "details for person: 2\n",
      "enter the no.of informations you wish to provide:2\n",
      "enter any type of info:name\n",
      "enter its value:amrutha\n",
      "enter any type of info:21\n",
      "enter its value:21\n",
      "{'name': 'amrutha', '21': '21'}\n",
      "\n",
      "\n",
      "details for person: 3\n"
     ]
    }
   ],
   "source": [
    "#userinfo\n",
    "def uinfo(**d1):\n",
    "    print(d1)\n",
    "    d.clear()\n",
    "    print(\"\\n\")\n",
    "    \n",
    "    \n",
    "d={}\n",
    "n=int(input(\"enter the no.of persons:\"))\n",
    "for i in range(n):\n",
    "    print(\"details for person:\",i+1)\n",
    "    n2=int(input(\"enter the no.of informations you wish to provide:\"))\n",
    "    for j in range(n2):\n",
    "        key=input(\"enter any type of info:\")\n",
    "        val=input(\"enter its value:\")\n",
    "        d.update({key:val})\n",
    "    uinfo(**d)\n"
   ]
  },
  {
   "cell_type": "code",
   "execution_count": null,
   "metadata": {
    "collapsed": true
   },
   "outputs": [],
   "source": []
  }
 ],
 "metadata": {
  "kernelspec": {
   "display_name": "Python 3",
   "language": "python",
   "name": "python3"
  },
  "language_info": {
   "codemirror_mode": {
    "name": "ipython",
    "version": 3
   },
   "file_extension": ".py",
   "mimetype": "text/x-python",
   "name": "python",
   "nbconvert_exporter": "python",
   "pygments_lexer": "ipython3",
   "version": "3.6.3"
  }
 },
 "nbformat": 4,
 "nbformat_minor": 2
}
