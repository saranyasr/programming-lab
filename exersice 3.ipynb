{
 "cells": [
  {
   "cell_type": "code",
   "execution_count": 2,
   "metadata": {},
   "outputs": [
    {
     "name": "stdout",
     "output_type": "stream",
     "text": [
      "enter temparature in celsius:35.5\n",
      "temparature in fareanheat 95.9\n"
     ]
    }
   ],
   "source": [
    "c=float(input(\"enter temparature in celsius:\"))\n",
    "f=c*9/5+32\n",
    "print(\"temparature in fareanheat\",f)"
   ]
  },
  {
   "cell_type": "code",
   "execution_count": 3,
   "metadata": {},
   "outputs": [
    {
     "name": "stdout",
     "output_type": "stream",
     "text": [
      "enter kilometer:3\n",
      "miles is: 1.86411\n"
     ]
    }
   ],
   "source": [
    "k=float(input(\"enter kilometer:\"))\n",
    "x=k*0.62137\n",
    "print(\"miles is:\",x)"
   ]
  },
  {
   "cell_type": "code",
   "execution_count": 4,
   "metadata": {},
   "outputs": [
    {
     "name": "stdout",
     "output_type": "stream",
     "text": [
      "enter n1:2\n",
      "enter n2:6\n",
      "enter n3:4\n",
      "biggest of these 3 number is: 6\n"
     ]
    }
   ],
   "source": [
    "a=int(input(\"enter n1:\"))\n",
    "b=int(input(\"enter n2:\"))\n",
    "c=int(input(\"enter n3:\"))\n",
    "print(\"biggest of these 3 number is:\",max (a,b,c))"
   ]
  },
  {
   "cell_type": "code",
   "execution_count": null,
   "metadata": {
    "collapsed": true
   },
   "outputs": [],
   "source": []
  }
 ],
 "metadata": {
  "kernelspec": {
   "display_name": "Python 3",
   "language": "python",
   "name": "python3"
  },
  "language_info": {
   "codemirror_mode": {
    "name": "ipython",
    "version": 3
   },
   "file_extension": ".py",
   "mimetype": "text/x-python",
   "name": "python",
   "nbconvert_exporter": "python",
   "pygments_lexer": "ipython3",
   "version": "3.6.3"
  }
 },
 "nbformat": 4,
 "nbformat_minor": 2
}
