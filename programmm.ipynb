{
 "cells": [
  {
   "cell_type": "code",
   "execution_count": 5,
   "id": "1c717f25",
   "metadata": {},
   "outputs": [
    {
     "name": "stdout",
     "output_type": "stream",
     "text": [
      "12.4.2022\n"
     ]
    }
   ],
   "source": [
    "#retrive line with date in given format\n",
    "import re\n",
    "file=open(\"test.txt\",\"r\")\n",
    "text=file.readlines()\n",
    "file.close()\n",
    "key=re.compile('\\\\d\\d?\\.\\d\\d?\\.\\d\\d')\n",
    "for line in text:\n",
    "    if key.search(line):\n",
    "        print(line)"
   ]
  },
  {
   "cell_type": "code",
   "execution_count": 7,
   "id": "e28d3d65",
   "metadata": {},
   "outputs": [
    {
     "name": "stdout",
     "output_type": "stream",
     "text": [
      "the file is\n",
      "\n",
      "fisosthe\n"
     ]
    }
   ],
   "source": [
    "import re \n",
    "file=open(\"test.txt\",\"r\")\n",
    "text=file.readlines()\n",
    "file.close()\n",
    "key=re.compile('the',re.I)\n",
    "for line in text:\n",
    "    if key.search(line):\n",
    "        print(line)"
   ]
  },
  {
   "cell_type": "code",
   "execution_count": 8,
   "id": "4bb2a8d8",
   "metadata": {},
   "outputs": [
    {
     "name": "stdout",
     "output_type": "stream",
     "text": [
      "text\n",
      "\n"
     ]
    }
   ],
   "source": [
    "import re \n",
    "file=open(\"test.txt\",\"r\")\n",
    "text=file.readlines()\n",
    "file.close()\n",
    "key=re.compile('text')\n",
    "for line in text:\n",
    "    if key.search(line):\n",
    "        print(line)"
   ]
  },
  {
   "cell_type": "code",
   "execution_count": 5,
   "id": "bbf762dc",
   "metadata": {},
   "outputs": [],
   "source": [
    "import re\n",
    "m=re.match('foo','seafood')\n",
    "if m!=None:\n",
    "    print(m.group())"
   ]
  },
  {
   "cell_type": "code",
   "execution_count": 3,
   "id": "ab295a96",
   "metadata": {},
   "outputs": [
    {
     "name": "stdout",
     "output_type": "stream",
     "text": [
      "foo\n"
     ]
    }
   ],
   "source": [
    "m=re.search('foo','seafood')\n",
    "if m!=None:\n",
    "    print(m.group())"
   ]
  },
  {
   "cell_type": "code",
   "execution_count": 9,
   "id": "9b56c50c",
   "metadata": {},
   "outputs": [
    {
     "data": {
      "text/plain": [
       "'foo'"
      ]
     },
     "execution_count": 9,
     "metadata": {},
     "output_type": "execute_result"
    }
   ],
   "source": [
    "m=re.match('foo','food on table')\n",
    "m.group()"
   ]
  },
  {
   "cell_type": "code",
   "execution_count": 10,
   "id": "4045b02c",
   "metadata": {},
   "outputs": [
    {
     "name": "stdout",
     "output_type": "stream",
     "text": [
      "ZIp code: 2000111234234\n"
     ]
    }
   ],
   "source": [
    "import re \n",
    "zip=\"2000-111-234234# this is pincode\"\n",
    "num=re.sub('\\D',\"\",zip)\n",
    "print(\"ZIp code:\",num)"
   ]
  },
  {
   "cell_type": "code",
   "execution_count": 11,
   "id": "b8219cee",
   "metadata": {},
   "outputs": [
    {
     "name": "stdout",
     "output_type": "stream",
     "text": [
      "['222244', '558878', '1']\n"
     ]
    }
   ],
   "source": [
    "import re \n",
    "zip=\"hello 222244 # and 558878 ok 1kk\"\n",
    "print(re.findall(\"\\d+\",zip))"
   ]
  },
  {
   "cell_type": "code",
   "execution_count": null,
   "id": "c72d4bd9",
   "metadata": {},
   "outputs": [],
   "source": []
  }
 ],
 "metadata": {
  "kernelspec": {
   "display_name": "Python 3",
   "language": "python",
   "name": "python3"
  },
  "language_info": {
   "codemirror_mode": {
    "name": "ipython",
    "version": 3
   },
   "file_extension": ".py",
   "mimetype": "text/x-python",
   "name": "python",
   "nbconvert_exporter": "python",
   "pygments_lexer": "ipython3",
   "version": "3.6.3"
  }
 },
 "nbformat": 4,
 "nbformat_minor": 5
}
