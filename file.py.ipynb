{
 "cells": [
  {
   "cell_type": "code",
   "execution_count": 2,
   "metadata": {
    "collapsed": true
   },
   "outputs": [],
   "source": [
    "#writting files\n",
    "f=open(\"myfile.txt\",\"w\")\n",
    "f.write(\"hello!learn python files.\")\n",
    "f.close()"
   ]
  },
  {
   "cell_type": "code",
   "execution_count": 5,
   "metadata": {
    "collapsed": true
   },
   "outputs": [],
   "source": [
    "#weite tines to file\n",
    "lines=[\"hello world.\\n\",\"welcome to the world of python.\\n\"]\n",
    "f=open(\"myfile.txt\",\"w\")\n",
    "f.writelines(lines)\n",
    "f.close()"
   ]
  },
  {
   "cell_type": "code",
   "execution_count": 7,
   "metadata": {},
   "outputs": [
    {
     "name": "stdout",
     "output_type": "stream",
     "text": [
      "hello world.\n",
      "\n"
     ]
    }
   ],
   "source": [
    "#reading lines\n",
    "f=open(\"myfile.txt\",\"r\")\n",
    "line=f.readline()\n",
    "print(line)\n",
    "f.close()"
   ]
  },
  {
   "cell_type": "code",
   "execution_count": 7,
   "metadata": {},
   "outputs": [
    {
     "name": "stdout",
     "output_type": "stream",
     "text": [
      "hello world.\n",
      "\n",
      "welcome to the world of python.\n",
      "\n",
      "hello!learn python.hello!learn python.\n"
     ]
    }
   ],
   "source": [
    "f=open(\"myfile.txt\",\"r\")\n",
    "for line in f:\n",
    "    print(line)\n",
    "f.close()\n"
   ]
  },
  {
   "cell_type": "code",
   "execution_count": 2,
   "metadata": {
    "collapsed": true
   },
   "outputs": [],
   "source": [
    "#append text to a file\n",
    "f=open(\"myfile.txt\",\"a+\")\n",
    "f.write(\"hello!learn python.\")\n",
    "line=f.readline() \n",
    "f.close()"
   ]
  },
  {
   "cell_type": "code",
   "execution_count": 4,
   "metadata": {},
   "outputs": [
    {
     "name": "stdout",
     "output_type": "stream",
     "text": [
      "world.\n",
      "\n",
      "welcome to the world of python.\n",
      "\n",
      "hello!learn python.hello!learn python.\n"
     ]
    }
   ],
   "source": [
    "#SEEK METHOD\n",
    "f=open(\"myfile.txt\",\"r+\")\n",
    "f.seek(6,0)\n",
    "lines=f.readlines()\n",
    "for line in lines:\n",
    "    print(line)\n",
    "f.close()\n",
    "\n",
    "    "
   ]
  },
  {
   "cell_type": "code",
   "execution_count": null,
   "metadata": {
    "collapsed": true
   },
   "outputs": [],
   "source": []
  }
 ],
 "metadata": {
  "kernelspec": {
   "display_name": "Python 3",
   "language": "python",
   "name": "python3"
  },
  "language_info": {
   "codemirror_mode": {
    "name": "ipython",
    "version": 3
   },
   "file_extension": ".py",
   "mimetype": "text/x-python",
   "name": "python",
   "nbconvert_exporter": "python",
   "pygments_lexer": "ipython3",
   "version": "3.6.3"
  }
 },
 "nbformat": 4,
 "nbformat_minor": 2
}
